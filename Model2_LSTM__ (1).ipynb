{
 "cells": [
  {
   "cell_type": "code",
   "execution_count": 62,
   "metadata": {
    "id": "y6FwzLGVaMp4",
    "scrolled": true
   },
   "outputs": [],
   "source": [
    "## Importing libraries\n",
    "%matplotlib inline\n",
    "import warnings\n",
    "warnings.filterwarnings(\"ignore\")\n",
    "\n",
    "import pandas as pd\n",
    "import numpy as np\n",
    "import nltk\n",
    "import string\n",
    "import matplotlib.pyplot as plt\n",
    "import seaborn as sns\n",
    "import tensorflow as tf\n",
    "from sklearn.feature_extraction.text import TfidfTransformer\n",
    "from sklearn.feature_extraction.text import TfidfVectorizer\n",
    "\n",
    "from sklearn.feature_extraction.text import CountVectorizer\n",
    "from sklearn.metrics import confusion_matrix\n",
    "from sklearn import metrics\n",
    "from sklearn.metrics import roc_curve, auc\n",
    "from nltk.stem.porter import PorterStemmer\n",
    "\n",
    "import re\n",
    "# Tutorial about Python regular expressions: https://pymotw.com/2/re/\n",
    "import string\n",
    "from nltk.corpus import stopwords\n",
    "from nltk.stem import PorterStemmer\n",
    "from nltk.stem.wordnet import WordNetLemmatizer\n",
    "\n",
    "from gensim.models import Word2Vec\n",
    "from gensim.models import KeyedVectors\n",
    "import pickle\n",
    "\n",
    "from tqdm import tqdm\n",
    "import os\n",
    "\n",
    "# from chart_studio.plotly import plotly\n",
    "# import plotly.offline as offline\n",
    "# import plotly.graph_objs as go  \n",
    "#offline.init_notebook_mode()\n",
    "from collections import Counter"
   ]
  },
  {
   "cell_type": "code",
   "execution_count": null,
   "metadata": {
    "colab": {
     "base_uri": "https://localhost:8080/",
     "height": 52
    },
    "id": "VTKz4cnaCuVF",
    "outputId": "d138a799-1f23-4b48-de41-4e4fa1d401ef"
   },
   "outputs": [
    {
     "name": "stderr",
     "output_type": "stream",
     "text": [
      "Using TensorFlow backend.\n"
     ]
    },
    {
     "data": {
      "application/vnd.google.colaboratory.intrinsic+json": {
       "type": "string"
      },
      "text/plain": [
       "'2.3.1'"
      ]
     },
     "execution_count": 3,
     "metadata": {
      "tags": []
     },
     "output_type": "execute_result"
    }
   ],
   "source": [
    "# !pip install tensorflow==1.15.0\n",
    "# !pip install keras==2.3.1\n",
    "import keras\n",
    "keras.__version__"
   ]
  },
  {
   "cell_type": "code",
   "execution_count": null,
   "metadata": {
    "colab": {
     "base_uri": "https://localhost:8080/",
     "height": 34
    },
    "id": "DGAdz8Jz155C",
    "outputId": "f0af2961-06f9-4089-e978-a0c4b1bf9ef4"
   },
   "outputs": [
    {
     "name": "stdout",
     "output_type": "stream",
     "text": [
      "Mounted at /content/drive\n"
     ]
    }
   ],
   "source": [
    "from google.colab import drive\n",
    "drive.mount('/content/drive')"
   ]
  },
  {
   "cell_type": "code",
   "execution_count": null,
   "metadata": {
    "id": "fvIdiKXJ2LuX"
   },
   "outputs": [],
   "source": [
    "# !cp -r '/content/drive/My Drive/LSTM_preprocessed/model1/processed_data_split.h2' '/content/'\n",
    "# !cp -r '/content/drive/My Drive/LSTM_preprocessed/model1/model_inputs_labelencode.pkl' '/content/'\n",
    "# !cp -r '/content/drive/My Drive/LSTM_preprocessed/model1/model_input_cat_lables.pkl' '/content/'\n",
    "# !cp -r '/content/drive/My Drive/LSTM_preprocessed/model1/tuning_output.pkl' '/content/'\n",
    "# !cp -r  '/content/drive/My Drive/_datasets/glove_vectors' '/content/'"
   ]
  },
  {
   "cell_type": "markdown",
   "metadata": {
    "id": "Udsm3KkbbU7i"
   },
   "source": [
    "### Load all the preprocessed data required for model2  created in Model1"
   ]
  },
  {
   "cell_type": "code",
   "execution_count": null,
   "metadata": {
    "colab": {
     "base_uri": "https://localhost:8080/",
     "height": 119
    },
    "id": "ZnxVsFrHbU7i",
    "outputId": "9a9e1702-0038-4ffe-a4e3-a7a383b324f0"
   },
   "outputs": [
    {
     "name": "stdout",
     "output_type": "stream",
     "text": [
      "**************************************************\n",
      " Successfully loaded processed split data\n",
      "**************************************************\n",
      " Successfully loaded model input variables\n",
      "**************************************************\n",
      "Successfully loaded split y labels\n"
     ]
    }
   ],
   "source": [
    "## Load data after split\n",
    "x_train = pd.read_hdf('processed_data_split.h2', 'x_train',mode='r')\n",
    "x_test = pd.read_hdf('processed_data_split.h2', 'x_test',mode='r') \n",
    "x_cv = pd.read_hdf('processed_data_split.h2', 'x_cv',mode='r')\n",
    "y_train =pd.read_hdf('processed_data_split.h2', 'y_train',mode='r')\n",
    "y_test =pd.read_hdf('processed_data_split.h2', 'y_test',mode='r')\n",
    "y_cv =pd.read_hdf('processed_data_split.h2', 'y_cv',mode='r')\n",
    "print('*'*50)\n",
    "print(' Successfully loaded processed split data')\n",
    "emd_i,embedding_matrix,seq_x_train,seq_x_test,seq_x_cv,padseq_x_train,sklstate_train,proj_grade_train,train_categories,train_subcategories,teacher_prefix_train,numerical_train,padseq_x_test,sklstate_test,proj_grade_test,test_categories,test_subcategories,teacher_prefix_test,numerical_test,padseq_x_cv,sklstate_cv,proj_grade_cv,cv_categories,cv_subcategories,teacher_prefix_cv,numerical_cv = pickle.load(open('model_inputs_labelencode.pkl','rb'))\n",
    "print('*'*50)\n",
    "print(' Successfully loaded model input variables')\n",
    "y_train_cat,y_test_cat,y_cv_cat = pickle.load(open('model_input_cat_lables.pkl', 'rb'))\n",
    "print('*'*50)\n",
    "print('Successfully loaded split y labels')"
   ]
  },
  {
   "cell_type": "markdown",
   "metadata": {
    "id": "e63NHCqzzBp-"
   },
   "source": [
    "#### Model-2\n",
    "\n",
    "Build and Train deep neural network as shown below\n",
    "\n",
    "<pre>\n",
    "Use the same model as above but for 'input_seq_total_text_data' give only some words in the sentance not all the words. Filter the words as below. \n",
    "1. Train the TF-IDF on the Train data <br>\n",
    "2. Get the idf value for each word we have in the train data. <br>\n",
    "3. Remove the low idf value and high idf value words from our data. Do some analysis on the Idf values and based on those values choose the low and high threshold value. Because very frequent words and very very rare words don't give much information. (you can plot a box plots and take only the idf scores within IQR range and corresponding words)<br>\n",
    "4. Train the LSTM after removing the Low and High idf value words. (In model-1 Train on total data but in Model-2 train on data after removing some words based on IDF values)\n",
    "</pre>"
   ]
  },
  {
   "cell_type": "markdown",
   "metadata": {
    "id": "uARyAcPxs5yi"
   },
   "source": [
    "#### 2.1 Remove less important  words from preprocessed essay "
   ]
  },
  {
   "cell_type": "code",
   "execution_count": null,
   "metadata": {
    "colab": {
     "base_uri": "https://localhost:8080/",
     "height": 692
    },
    "id": "mbrepEL4s4ih",
    "outputId": "7886b527-3b40-44aa-f9f9-4b43689157bd"
   },
   "outputs": [
    {
     "name": "stdout",
     "output_type": "stream",
     "text": [
      "\n",
      "\n",
      "length of essay dictionary is :  47226\n"
     ]
    },
    {
     "data": {
      "image/png": "[encoded data removed]",
      "text/plain": [
       "<Figure size 432x288 with 1 Axes>"
      ]
     },
     "metadata": {
      "needs_background": "light",
      "tags": []
     },
     "output_type": "display_data"
    },
    {
     "data": {
      "image/png": "[encoded data removed]",
      "text/plain": [
       "<Figure size 432x288 with 1 Axes>"
      ]
     },
     "metadata": {
      "needs_background": "light",
      "tags": []
     },
     "output_type": "display_data"
    },
    {
     "name": "stderr",
     "output_type": "stream",
     "text": [
      "100%|██████████| 47226/47226 [00:00<00:00, 942063.71it/s]"
     ]
    },
    {
     "name": "stdout",
     "output_type": "stream",
     "text": [
      "\n",
      "\n",
      "Idf values in IQR range:  [ 9.44704251 11.46194553]\n"
     ]
    },
    {
     "name": "stderr",
     "output_type": "stream",
     "text": [
      "\n"
     ]
    }
   ],
   "source": [
    "tfidf_text = TfidfVectorizer(lowercase=True)\n",
    "tfidf_text.fit(x_train['preprocessed_essay'].values)\n",
    "\n",
    "## get features with its idf_values\n",
    "essay_dictionary = dict(zip(set(tfidf_text.get_feature_names() ),tfidf_text.idf_))\n",
    "essay_words = essay_dictionary.keys()\n",
    "\n",
    "print('\\n')\n",
    "print('length of essay dictionary is : ',len(essay_words))\n",
    "\n",
    "\n",
    "\n",
    "# plot box plot \n",
    "sns.boxplot(tfidf_text.idf_)\n",
    "plt.xlabel('IDF values')\n",
    "plt.ylabel('Box-plot')\n",
    "plt.title('Box plot for IDF values')\n",
    "plt.grid()\n",
    "plt.show() \n",
    "\n",
    "\n",
    "#histogram of  IDF values\n",
    "sns.distplot(tfidf_text.idf_)\n",
    "plt.xlabel('IDF values')\n",
    "plt.title('Histogram for IDF values')\n",
    "plt.grid()\n",
    "plt.show() \n",
    "'''We are going to remove all the word indexs/sequence number which are having idf value less than 25th percentile\n",
    "and greater than 75th percentile '''\n",
    "\n",
    "print('\\n')\n",
    "print('Idf values in IQR range: ',np.percentile(tfidf_text.idf_,[25,75]))\n",
    "\n",
    "remove_words = []\n",
    "percentile = np.percentile(tfidf_text.idf_,[25,75])\n",
    "for k,v in tqdm(essay_dictionary.items()):\n",
    "    if v < 6 or v > percentile[1] : \n",
    "            remove_words.append(k)\n",
    "\n",
    "def filter_words(text,remove_words):\n",
    "    filtered_essay = []\n",
    "    for sentence in tqdm(text):\n",
    "            filtered_sentence=''\n",
    "            filtered_sentence = ' '.join(w  for w in sentence.split() if w not in remove_words)            \n",
    "            filtered_essay.append(filtered_sentence)   \n",
    "    return filtered_essay\n",
    "\n"
   ]
  },
  {
   "cell_type": "markdown",
   "metadata": {},
   "source": [
    "##### Note : We are considering words which fall in the range from 6 - 11.46194553(i.e 75th percentile ) because we observe good number of  points in that region.There are 0 words which are below 2 and many points fall above 11 .If we neglect points above 11 we loose half the words ."
   ]
  },
  {
   "cell_type": "code",
   "execution_count": null,
   "metadata": {
    "colab": {
     "base_uri": "https://localhost:8080/",
     "height": 68
    },
    "id": "boMvx6lKsd6F",
    "outputId": "7baae60e-1f18-43a1-c59c-a3f9d9fb9a8b"
   },
   "outputs": [
    {
     "name": "stderr",
     "output_type": "stream",
     "text": [
      "100%|██████████| 69918/69918 [05:58<00:00, 195.20it/s]\n",
      "100%|██████████| 21850/21850 [01:51<00:00, 195.92it/s]\n",
      "100%|██████████| 17480/17480 [01:29<00:00, 195.38it/s]\n"
     ]
    }
   ],
   "source": [
    "filtered_essay_train = filter_words(x_train['preprocessed_essay'].values,remove_words)\n",
    "filtered_essay_test = filter_words(x_test['preprocessed_essay'].values,remove_words) \n",
    "filtered_essay_cv = filter_words(x_cv['preprocessed_essay'].values,remove_words)     \n"
   ]
  },
  {
   "cell_type": "markdown",
   "metadata": {
    "id": "f_4Y90xqhHPX"
   },
   "source": []
  },
  {
   "cell_type": "code",
   "execution_count": null,
   "metadata": {
    "colab": {
     "base_uri": "https://localhost:8080/",
     "height": 51
    },
    "id": "HULhJJE9sgOb",
    "outputId": "6db4be56-1f2d-4559-b7b8-62d54b40d785"
   },
   "outputs": [
    {
     "name": "stdout",
     "output_type": "stream",
     "text": [
      "\n",
      "Length of sample datapoint without filtering is  733    and with filtering is:  720\n"
     ]
    }
   ],
   "source": [
    "print('\\nLength of sample datapoint without filtering is ',\n",
    "          len(x_train['preprocessed_essay'].values[0]),' ',\n",
    "        ' and with filtering is: ',len(filtered_essay_train[0])) "
   ]
  },
  {
   "cell_type": "code",
   "execution_count": null,
   "metadata": {
    "id": "xYZZtvHw8bwb"
   },
   "outputs": [],
   "source": [
    "## convert essay to sequences\n",
    "'''The essay is in textual format ,we need to convert to sequences of index and pad them'''\n",
    "from keras.preprocessing.text import Tokenizer\n",
    "tok = Tokenizer()\n",
    "tok.fit_on_texts(filtered_essay_train)\n",
    "seq_x_train = tok.texts_to_sequences(filtered_essay_train)\n",
    "seq_x_test = tok.texts_to_sequences(filtered_essay_test)\n",
    "seq_x_cv = tok.texts_to_sequences(filtered_essay_cv)\n",
    "vocab_size = len(tok.word_index) + 1"
   ]
  },
  {
   "cell_type": "code",
   "execution_count": null,
   "metadata": {
    "id": "fDgpsVm9KUdF"
   },
   "outputs": [],
   "source": [
    "## lets pad the sequenced essay\n",
    "'''After indexing the essay lets padd them using post padding '''\n",
    "from keras.preprocessing import sequence\n",
    "max_review_length = 300 \n",
    "padfiltered_sequence_train = sequence.pad_sequences(seq_x_train,maxlen=max_review_length,padding='post') \n",
    "padfiltered_sequence_test = sequence.pad_sequences(seq_x_test,maxlen=max_review_length,padding='post') \n",
    "padfiltered_sequence_cv = sequence.pad_sequences(seq_x_cv,maxlen=max_review_length,padding='post') "
   ]
  },
  {
   "cell_type": "code",
   "execution_count": null,
   "metadata": {
    "colab": {
     "base_uri": "https://localhost:8080/",
     "height": 425
    },
    "id": "NWyInwZnL6r8",
    "outputId": "8dbd2eeb-e141-4655-a044-fc355715130a"
   },
   "outputs": [
    {
     "name": "stdout",
     "output_type": "stream",
     "text": [
      "Train data after padding and sequencing\n",
      "**************************************************\n",
      "[   1  201  192  473 1216  185   43   16    1   11   52    1  295  367\n",
      "  827  703   31  185  170   70   60  144  324   63  131    1  201 1527\n",
      " 1558  977 6338 4238  114    3    1   11  671 4115  129   29    6  249\n",
      "   51  205   83  324  134   29    3  522 1569  422  134  114    1  833\n",
      "   52  249   51    1   10   73  700  473  862  473 1982   99  700  848\n",
      "  473  140 1453 3108  189 3040  942  151  153  205   83  151  205  144\n",
      "  168  424   87  386 1163    7 1605    1  540  256  205   83   62    1\n",
      "  414   63 2092  405    8    9    0    0    0    0    0    0    0    0\n",
      "    0    0    0    0    0    0    0    0    0    0    0    0    0    0\n",
      "    0    0    0    0    0    0    0    0    0    0    0    0    0    0\n",
      "    0    0    0    0    0    0    0    0    0    0    0    0    0    0\n",
      "    0    0    0    0    0    0    0    0    0    0    0    0    0    0\n",
      "    0    0    0    0    0    0    0    0    0    0    0    0    0    0\n",
      "    0    0    0    0    0    0    0    0    0    0    0    0    0    0\n",
      "    0    0    0    0    0    0    0    0    0    0    0    0    0    0\n",
      "    0    0    0    0    0    0    0    0    0    0    0    0    0    0\n",
      "    0    0    0    0    0    0    0    0    0    0    0    0    0    0\n",
      "    0    0    0    0    0    0    0    0    0    0    0    0    0    0\n",
      "    0    0    0    0    0    0    0    0    0    0    0    0    0    0\n",
      "    0    0    0    0    0    0    0    0    0    0    0    0    0    0\n",
      "    0    0    0    0    0    0    0    0    0    0    0    0    0    0\n",
      "    0    0    0    0    0    0] 300\n"
     ]
    }
   ],
   "source": [
    "print('Train data after padding and sequencing')\n",
    "print('*'*50)\n",
    "print(padfiltered_sequence_train[1],len(padfiltered_sequence_train[1]))"
   ]
  },
  {
   "cell_type": "code",
   "execution_count": null,
   "metadata": {
    "id": "5TYUV0uY_vwE"
   },
   "outputs": [],
   "source": [
    "'''using glove vectors lets create a embedding matrix such that for every word \n",
    "  in vocabulary we store its corresponding glove vector in matrix form'''\n",
    "with open('glove_vectors', 'rb') as f:\n",
    "    model = pickle.load(f)   "
   ]
  },
  {
   "cell_type": "code",
   "execution_count": null,
   "metadata": {
    "colab": {
     "base_uri": "https://localhost:8080/",
     "height": 34
    },
    "id": "nkhhT1-n_2MX",
    "outputId": "25f6f9ed-1240-41d5-f620-a299d768e38a"
   },
   "outputs": [
    {
     "name": "stdout",
     "output_type": "stream",
     "text": [
      "Loaded 45161 word vectors.\n"
     ]
    }
   ],
   "source": [
    "import numpy as np\n",
    "#embedd_matrix = np.zeros((vocab_len,max_review_length)) \n",
    "glove_words = model.keys()\n",
    "emd_i =dict()\n",
    "\n",
    "## lets create a dictionary that stores the 300 dim glove vector as value and the word's index as key \n",
    "for i,w in tok.index_word.items():\n",
    "    #if w in glove_words:\n",
    "    emd_i[i] = model.get(w)\n",
    "    #else:  emd_i[i] = np.zeros((1,max_review_length))\n",
    "    \n",
    "## emd_matrix stores all the 300 dimensional glove vectors of words based on their rank from  the tokenizer.\n",
    "## the most frequent  word is given the highest rank   \n",
    "\n",
    "# emd_matrix = np.zeros((vocab_len,max_review_length))\n",
    "# print(emd_matrix.shape)\n",
    "# for i in range(1,vocab_len+1):\n",
    "#     emd_matrix[i-1] = emd_i[i]  \n",
    "\n",
    "# create a weight matrix for words in training docs\n",
    "print('Loaded %s word vectors.' % len(emd_i))\n",
    "# create a weight matrix for words in training docs\n",
    "embedding_matrix = np.zeros((vocab_size, 300))\n",
    "for word, i in tok.word_index.items():\n",
    "    embedding_vector = model.get(word)\n",
    "    if embedding_vector is not None:\n",
    "        embedding_matrix[i] = embedding_vector"
   ]
  },
  {
   "cell_type": "code",
   "execution_count": null,
   "metadata": {
    "colab": {
     "base_uri": "https://localhost:8080/",
     "height": 34
    },
    "id": "ItYTINCK_6Ks",
    "outputId": "f73adadf-af6e-43dd-ba4d-a15aab7f5991"
   },
   "outputs": [
    {
     "name": "stdout",
     "output_type": "stream",
     "text": [
      "shape of embedding matrix =  (45162, 300)\n"
     ]
    }
   ],
   "source": [
    "print('shape of embedding matrix = ',embedding_matrix.shape)"
   ]
  },
  {
   "cell_type": "code",
   "execution_count": null,
   "metadata": {
    "colab": {
     "base_uri": "https://localhost:8080/",
     "height": 34
    },
    "id": "JktcOjzEDzIA",
    "outputId": "07ed64a4-e3a8-4a26-d7c8-443969e54d05"
   },
   "outputs": [
    {
     "name": "stdout",
     "output_type": "stream",
     "text": [
      "File model_inputs Removed!\n"
     ]
    }
   ],
   "source": [
    "if  os.path.isfile('model2_inputs.pkl') : \n",
    "    os.remove(\"model2_inputs.pkl\")\n",
    "    print(\"File model_inputs Removed!\")\n",
    "with open('model2_inputs.pkl', 'wb') as f: \n",
    "    pickle.dump([emd_i,embedding_matrix,seq_x_train,seq_x_test,seq_x_cv,\n",
    "                 padfiltered_sequence_train,sklstate_train,proj_grade_train,train_categories,train_subcategories,\n",
    "    teacher_prefix_train,numerical_train,\n",
    "    padfiltered_sequence_test,sklstate_test,proj_grade_test,test_categories,test_subcategories,\n",
    "    teacher_prefix_test,numerical_test,\n",
    "    padfiltered_sequence_cv,sklstate_cv,proj_grade_cv,cv_categories,cv_subcategories,\n",
    "    teacher_prefix_cv,numerical_cv],f)"
   ]
  },
  {
   "cell_type": "code",
   "execution_count": null,
   "metadata": {
    "id": "fU_5vXk4PMlQ"
   },
   "outputs": [],
   "source": [
    "! cp -r     '/content/drive/My Drive/LSTM_preprocessed/model2/model2_inputs.pkl'  '/content/'"
   ]
  },
  {
   "cell_type": "code",
   "execution_count": null,
   "metadata": {
    "id": "l9h_SeEAmpvk"
   },
   "outputs": [],
   "source": [
    "emd_i,embedding_matrix,seq_x_train,seq_x_test,seq_x_cv,padfiltered_sequence_train,sklstate_train,proj_grade_train,train_categories,train_subcategories,teacher_prefix_train,numerical_train, padfiltered_sequence_test,sklstate_test,proj_grade_test,test_categories,test_subcategories,teacher_prefix_test,numerical_test,padfiltered_sequence_cv,sklstate_cv,proj_grade_cv,cv_categories,cv_subcategories,teacher_prefix_cv,numerical_cv = pickle.load(open('model2_inputs.pkl','rb'))"
   ]
  },
  {
   "cell_type": "code",
   "execution_count": null,
   "metadata": {
    "id": "d5RF87JLnHkH"
   },
   "outputs": [],
   "source": [
    "vocab_size = len(embedding_matrix)"
   ]
  },
  {
   "cell_type": "code",
   "execution_count": null,
   "metadata": {
    "colab": {
     "base_uri": "https://localhost:8080/",
     "height": 34
    },
    "id": "lN-6SSsvOZNJ",
    "outputId": "828cc17c-6f8b-4b7a-a0ee-6f5ab3691329"
   },
   "outputs": [
    {
     "data": {
      "text/plain": [
       "428"
      ]
     },
     "execution_count": 37,
     "metadata": {
      "tags": []
     },
     "output_type": "execute_result"
    }
   ],
   "source": [
    "len(list(filter(lambda x : x <6 or x>percentile[1],essay_dictionary.values())))"
   ]
  },
  {
   "cell_type": "markdown",
   "metadata": {
    "id": "hPWXP06TJrat"
   },
   "source": [
    "### Hyperparameter Tuning\n"
   ]
  },
  {
   "cell_type": "code",
   "execution_count": null,
   "metadata": {
    "id": "mulLkKIGHR-S"
   },
   "outputs": [],
   "source": [
    "import tensorflow as tf\n",
    "from keras.callbacks import TensorBoard,ModelCheckpoint\n",
    "from keras.regularizers import l2 \n",
    "import keras\n",
    "import keras.backend as k\n",
    "from tensorflow import set_random_seed\n",
    "from sklearn.metrics import roc_auc_score\n",
    "\n",
    "from keras.layers import Dropout,Input,Activation,Dense,Embedding,concatenate,LSTM,Flatten,BatchNormalization,LeakyReLU\n",
    "from keras.models import Model\n",
    "def aucroc(y_true,y_pred):\n",
    "    try:\n",
    "        return  tf.py_func(roc_auc_score,(y_true, y_pred),tf.double)\n",
    "    except ValueError:\n",
    "        pass\n"
   ]
  },
  {
   "cell_type": "code",
   "execution_count": null,
   "metadata": {
    "colab": {
     "base_uri": "https://localhost:8080/",
     "height": 34
    },
    "id": "xDaU64L9n9Ut",
    "outputId": "87765cd9-4d99-4621-c2b5-7c15cf755216"
   },
   "outputs": [
    {
     "data": {
      "text/plain": [
       "2709"
      ]
     },
     "execution_count": 30,
     "metadata": {
      "tags": []
     },
     "output_type": "execute_result"
    }
   ],
   "source": []
  },
  {
   "cell_type": "code",
   "execution_count": null,
   "metadata": {
    "colab": {
     "base_uri": "https://localhost:8080/",
     "height": 34
    },
    "id": "yYHJ2CQ1oMnY",
    "outputId": "b5ed223d-c533-4a44-fe19-5292823460ef"
   },
   "outputs": [
    {
     "data": {
      "text/plain": [
       "2093"
      ]
     },
     "execution_count": 50,
     "metadata": {
      "tags": []
     },
     "output_type": "execute_result"
    }
   ],
   "source": [
    "len(remove_words)"
   ]
  },
  {
   "cell_type": "code",
   "execution_count": null,
   "metadata": {
    "colab": {
     "base_uri": "https://localhost:8080/",
     "height": 1000
    },
    "id": "Dc3Kc301NtzR",
    "outputId": "31ae7a16-cd5f-409c-a5c3-d4baef26471c"
   },
   "outputs": [
    {
     "name": "stdout",
     "output_type": "stream",
     "text": [
      "Train on 69918 samples, validate on 17480 samples\n",
      "Epoch 1/10\n",
      "69918/69918 [==============================] - 33s 469us/step - loss: 0.5453 - accuracy: 0.7232 - aucroc: 0.5217 - val_loss: 0.4428 - val_accuracy: 0.8223 - val_aucroc: 0.5070\n",
      "Epoch 2/10\n",
      "69918/69918 [==============================] - 31s 449us/step - loss: 0.4392 - accuracy: 0.8055 - aucroc: 0.5285 - val_loss: 0.4254 - val_accuracy: 0.8329 - val_aucroc: 0.5897\n",
      "Epoch 3/10\n",
      "69918/69918 [==============================] - 32s 452us/step - loss: 0.4055 - accuracy: 0.8329 - aucroc: 0.5425 - val_loss: 0.4174 - val_accuracy: 0.8527 - val_aucroc: 0.5798\n",
      "Epoch 4/10\n",
      "69918/69918 [==============================] - 31s 450us/step - loss: 0.3798 - accuracy: 0.8519 - aucroc: 0.5604 - val_loss: 0.4029 - val_accuracy: 0.8506 - val_aucroc: 0.6200\n",
      "Epoch 5/10\n",
      "69918/69918 [==============================] - 32s 451us/step - loss: 0.3597 - accuracy: 0.8600 - aucroc: 0.5923 - val_loss: 0.3878 - val_accuracy: 0.8543 - val_aucroc: 0.6257\n",
      "Epoch 6/10\n",
      "69918/69918 [==============================] - 31s 447us/step - loss: 0.3391 - accuracy: 0.8670 - aucroc: 0.6301 - val_loss: 0.4366 - val_accuracy: 0.8530 - val_aucroc: 0.6270\n",
      "Epoch 7/10\n",
      "69918/69918 [==============================] - 32s 451us/step - loss: 0.3134 - accuracy: 0.8766 - aucroc: 0.6667 - val_loss: 0.4280 - val_accuracy: 0.8520 - val_aucroc: 0.6186\n",
      "Epoch 8/10\n",
      "69918/69918 [==============================] - 31s 450us/step - loss: 0.2817 - accuracy: 0.8881 - aucroc: 0.7168 - val_loss: 0.4807 - val_accuracy: 0.8482 - val_aucroc: 0.6356\n",
      "Epoch 9/10\n",
      "69918/69918 [==============================] - 31s 449us/step - loss: 0.2465 - accuracy: 0.9041 - aucroc: 0.7704 - val_loss: 0.5189 - val_accuracy: 0.8508 - val_aucroc: 0.6366\n",
      "Epoch 10/10\n",
      "69918/69918 [==============================] - 31s 449us/step - loss: 0.2106 - accuracy: 0.9187 - aucroc: 0.8123 - val_loss: 0.6078 - val_accuracy: 0.8509 - val_aucroc: 0.6326\n",
      "Validation loss for embedding units=32, lstm layer=32 ,numerical dense units=128   is : 0.5189016276557058\n",
      "Train on 69918 samples, validate on 17480 samples\n",
      "Epoch 1/10\n",
      "69918/69918 [==============================] - 33s 467us/step - loss: 0.5808 - accuracy: 0.6917 - aucroc: 0.5238 - val_loss: 0.4504 - val_accuracy: 0.8288 - val_aucroc: 0.5127\n",
      "Epoch 2/10\n",
      "69918/69918 [==============================] - 31s 448us/step - loss: 0.4437 - accuracy: 0.8109 - aucroc: 0.5264 - val_loss: 0.4186 - val_accuracy: 0.8352 - val_aucroc: 0.5322\n",
      "Epoch 3/10\n",
      "69918/69918 [==============================] - 31s 450us/step - loss: 0.4067 - accuracy: 0.8385 - aucroc: 0.5379 - val_loss: 0.4169 - val_accuracy: 0.8508 - val_aucroc: 0.5697\n",
      "Epoch 4/10\n",
      "69918/69918 [==============================] - 32s 452us/step - loss: 0.3893 - accuracy: 0.8491 - aucroc: 0.5562 - val_loss: 0.3945 - val_accuracy: 0.8518 - val_aucroc: 0.5846\n",
      "Epoch 5/10\n",
      "69918/69918 [==============================] - 31s 448us/step - loss: 0.3730 - accuracy: 0.8546 - aucroc: 0.5807 - val_loss: 0.3894 - val_accuracy: 0.8487 - val_aucroc: 0.5809\n",
      "Epoch 6/10\n",
      "69918/69918 [==============================] - 31s 449us/step - loss: 0.3564 - accuracy: 0.8599 - aucroc: 0.6062 - val_loss: 0.4136 - val_accuracy: 0.8528 - val_aucroc: 0.6164\n",
      "Epoch 7/10\n",
      "69918/69918 [==============================] - 31s 446us/step - loss: 0.3373 - accuracy: 0.8663 - aucroc: 0.6525 - val_loss: 0.4124 - val_accuracy: 0.8529 - val_aucroc: 0.6473\n",
      "Epoch 8/10\n",
      "69918/69918 [==============================] - 31s 446us/step - loss: 0.3119 - accuracy: 0.8757 - aucroc: 0.6920 - val_loss: 0.4802 - val_accuracy: 0.8517 - val_aucroc: 0.5900\n",
      "Epoch 9/10\n",
      "69918/69918 [==============================] - 31s 446us/step - loss: 0.2805 - accuracy: 0.8888 - aucroc: 0.7377 - val_loss: 0.4759 - val_accuracy: 0.8466 - val_aucroc: 0.6193\n",
      "Epoch 10/10\n",
      "69918/69918 [==============================] - 31s 445us/step - loss: 0.2429 - accuracy: 0.9042 - aucroc: 0.7894 - val_loss: 0.5454 - val_accuracy: 0.8497 - val_aucroc: 0.6131\n",
      "Restoring model weights from the end of the best epoch.\n",
      "Epoch 00010: early stopping\n",
      "Validation loss for embedding units=32, lstm layer=32 ,numerical dense units=64   is : 0.4124108426085326\n",
      "Train on 69918 samples, validate on 17480 samples\n",
      "Epoch 1/10\n",
      "69918/69918 [==============================] - 32s 463us/step - loss: 0.5388 - accuracy: 0.7189 - aucroc: 0.5417 - val_loss: 0.5830 - val_accuracy: 0.6673 - val_aucroc: 0.5880\n",
      "Epoch 2/10\n",
      "69918/69918 [==============================] - 31s 446us/step - loss: 0.4422 - accuracy: 0.7869 - aucroc: 0.5817 - val_loss: 0.4584 - val_accuracy: 0.8029 - val_aucroc: 0.6647\n",
      "Epoch 3/10\n",
      "69918/69918 [==============================] - 31s 445us/step - loss: 0.4114 - accuracy: 0.8068 - aucroc: 0.6109 - val_loss: 0.4219 - val_accuracy: 0.8124 - val_aucroc: 0.7022\n",
      "Epoch 4/10\n",
      "69918/69918 [==============================] - 32s 451us/step - loss: 0.3895 - accuracy: 0.8207 - aucroc: 0.6471 - val_loss: 0.4560 - val_accuracy: 0.8195 - val_aucroc: 0.6424\n",
      "Epoch 5/10\n",
      "69918/69918 [==============================] - 31s 446us/step - loss: 0.3699 - accuracy: 0.8317 - aucroc: 0.6684 - val_loss: 0.4329 - val_accuracy: 0.8231 - val_aucroc: 0.6410\n",
      "Epoch 6/10\n",
      "69918/69918 [==============================] - 32s 452us/step - loss: 0.3497 - accuracy: 0.8415 - aucroc: 0.6992 - val_loss: 0.4066 - val_accuracy: 0.8181 - val_aucroc: 0.6568\n",
      "Restoring model weights from the end of the best epoch.\n",
      "Epoch 00006: early stopping\n",
      "Validation loss for embedding units=32, lstm layer=32 ,numerical dense units=32   is : 0.4218506107886814\n",
      "Train on 69918 samples, validate on 17480 samples\n",
      "Epoch 1/10\n",
      "69918/69918 [==============================] - 38s 547us/step - loss: 0.5471 - accuracy: 0.7121 - aucroc: 0.5440 - val_loss: 0.6184 - val_accuracy: 0.6424 - val_aucroc: 0.5177\n",
      "Epoch 2/10\n",
      "69918/69918 [==============================] - 37s 528us/step - loss: 0.4417 - accuracy: 0.7850 - aucroc: 0.5830 - val_loss: 0.4247 - val_accuracy: 0.8014 - val_aucroc: 0.6465\n",
      "Epoch 3/10\n",
      "69918/69918 [==============================] - 37s 526us/step - loss: 0.4101 - accuracy: 0.8074 - aucroc: 0.6188 - val_loss: 0.4451 - val_accuracy: 0.8103 - val_aucroc: 0.6661\n",
      "Epoch 4/10\n",
      "69918/69918 [==============================] - 37s 529us/step - loss: 0.3867 - accuracy: 0.8198 - aucroc: 0.6443 - val_loss: 0.4018 - val_accuracy: 0.8207 - val_aucroc: 0.6734\n",
      "Epoch 5/10\n",
      "69918/69918 [==============================] - 37s 532us/step - loss: 0.3615 - accuracy: 0.8327 - aucroc: 0.6760 - val_loss: 0.4385 - val_accuracy: 0.8237 - val_aucroc: 0.6297\n",
      "Epoch 6/10\n",
      "69918/69918 [==============================] - 37s 534us/step - loss: 0.3307 - accuracy: 0.8480 - aucroc: 0.7177 - val_loss: 0.4238 - val_accuracy: 0.8203 - val_aucroc: 0.6421\n",
      "Epoch 7/10\n",
      "69918/69918 [==============================] - 37s 526us/step - loss: 0.2958 - accuracy: 0.8646 - aucroc: 0.7652 - val_loss: 0.4790 - val_accuracy: 0.8236 - val_aucroc: 0.6629\n",
      "Restoring model weights from the end of the best epoch.\n",
      "Epoch 00007: early stopping\n",
      "Validation loss for embedding units=32, lstm layer=64 ,numerical dense units=128   is : 0.4018301945392818\n",
      "Train on 69918 samples, validate on 17480 samples\n",
      "Epoch 1/10\n",
      "69918/69918 [==============================] - 39s 556us/step - loss: 0.5459 - accuracy: 0.7024 - aucroc: 0.5185 - val_loss: 0.5003 - val_accuracy: 0.8158 - val_aucroc: 0.5151\n",
      "Epoch 2/10\n",
      "69918/69918 [==============================] - 37s 528us/step - loss: 0.4422 - accuracy: 0.7988 - aucroc: 0.5360 - val_loss: 0.4371 - val_accuracy: 0.8124 - val_aucroc: 0.5764\n",
      "Epoch 3/10\n",
      "69918/69918 [==============================] - 37s 529us/step - loss: 0.4085 - accuracy: 0.8263 - aucroc: 0.5676 - val_loss: 0.4282 - val_accuracy: 0.8424 - val_aucroc: 0.5800\n",
      "Epoch 4/10\n",
      "69918/69918 [==============================] - 37s 528us/step - loss: 0.3858 - accuracy: 0.8427 - aucroc: 0.5964 - val_loss: 0.3871 - val_accuracy: 0.8479 - val_aucroc: 0.6342\n",
      "Epoch 5/10\n",
      "69918/69918 [==============================] - 37s 531us/step - loss: 0.3666 - accuracy: 0.8526 - aucroc: 0.6256 - val_loss: 0.3847 - val_accuracy: 0.8452 - val_aucroc: 0.6017\n",
      "Epoch 6/10\n",
      "69918/69918 [==============================] - 37s 530us/step - loss: 0.3535 - accuracy: 0.8577 - aucroc: 0.6460 - val_loss: 0.4003 - val_accuracy: 0.8491 - val_aucroc: 0.6565\n",
      "Epoch 7/10\n",
      "69918/69918 [==============================] - 37s 527us/step - loss: 0.3327 - accuracy: 0.8656 - aucroc: 0.6976 - val_loss: 0.3920 - val_accuracy: 0.8399 - val_aucroc: 0.6649\n",
      "Epoch 8/10\n",
      "69918/69918 [==============================] - 37s 530us/step - loss: 0.3114 - accuracy: 0.8753 - aucroc: 0.7244 - val_loss: 0.5053 - val_accuracy: 0.7644 - val_aucroc: 0.6352\n",
      "Epoch 9/10\n",
      "69918/69918 [==============================] - 37s 528us/step - loss: 0.2838 - accuracy: 0.8839 - aucroc: 0.7677 - val_loss: 0.4236 - val_accuracy: 0.8263 - val_aucroc: 0.6470\n",
      "Epoch 10/10\n",
      "69918/69918 [==============================] - 37s 530us/step - loss: 0.2515 - accuracy: 0.8974 - aucroc: 0.8100 - val_loss: 0.4910 - val_accuracy: 0.8430 - val_aucroc: 0.6264\n",
      "Restoring model weights from the end of the best epoch.\n",
      "Epoch 00010: early stopping\n",
      "Validation loss for embedding units=32, lstm layer=64 ,numerical dense units=64   is : 0.39197094816910594\n",
      "Train on 69918 samples, validate on 17480 samples\n",
      "Epoch 1/10\n",
      "69918/69918 [==============================] - 39s 561us/step - loss: 0.5764 - accuracy: 0.6839 - aucroc: 0.5178 - val_loss: 0.5285 - val_accuracy: 0.7842 - val_aucroc: 0.4909\n",
      "Epoch 2/10\n",
      "69918/69918 [==============================] - 37s 528us/step - loss: 0.4552 - accuracy: 0.7953 - aucroc: 0.5308 - val_loss: 0.4411 - val_accuracy: 0.8263 - val_aucroc: 0.5325\n",
      "Epoch 3/10\n",
      "69918/69918 [==============================] - 37s 529us/step - loss: 0.4153 - accuracy: 0.8313 - aucroc: 0.5504 - val_loss: 0.4061 - val_accuracy: 0.8386 - val_aucroc: 0.5610\n",
      "Epoch 4/10\n",
      "69918/69918 [==============================] - 37s 529us/step - loss: 0.3921 - accuracy: 0.8439 - aucroc: 0.5757 - val_loss: 0.4143 - val_accuracy: 0.8373 - val_aucroc: 0.5911\n",
      "Epoch 5/10\n",
      "69918/69918 [==============================] - 37s 530us/step - loss: 0.3778 - accuracy: 0.8502 - aucroc: 0.5912 - val_loss: 0.3862 - val_accuracy: 0.8504 - val_aucroc: 0.6393\n",
      "Epoch 6/10\n",
      "69918/69918 [==============================] - 37s 532us/step - loss: 0.3601 - accuracy: 0.8560 - aucroc: 0.6261 - val_loss: 0.4038 - val_accuracy: 0.8371 - val_aucroc: 0.5708\n",
      "Epoch 7/10\n",
      "69918/69918 [==============================] - 37s 528us/step - loss: 0.3416 - accuracy: 0.8636 - aucroc: 0.6472 - val_loss: 0.3867 - val_accuracy: 0.8483 - val_aucroc: 0.6433\n",
      "Epoch 8/10\n",
      "69918/69918 [==============================] - 37s 528us/step - loss: 0.3202 - accuracy: 0.8715 - aucroc: 0.6858 - val_loss: 0.4461 - val_accuracy: 0.7971 - val_aucroc: 0.6375\n",
      "Epoch 9/10\n",
      "69918/69918 [==============================] - 37s 526us/step - loss: 0.2924 - accuracy: 0.8821 - aucroc: 0.7401 - val_loss: 0.4378 - val_accuracy: 0.8294 - val_aucroc: 0.6550\n",
      "Epoch 10/10\n",
      "69918/69918 [==============================] - 37s 532us/step - loss: 0.2588 - accuracy: 0.8959 - aucroc: 0.7799 - val_loss: 0.4762 - val_accuracy: 0.8438 - val_aucroc: 0.6702\n",
      "Validation loss for embedding units=32, lstm layer=64 ,numerical dense units=32   is : 0.47623442839703245\n",
      "Train on 69918 samples, validate on 17480 samples\n",
      "Epoch 1/10\n",
      "69918/69918 [==============================] - 51s 733us/step - loss: 0.5661 - accuracy: 0.6997 - aucroc: 0.5346 - val_loss: 0.4815 - val_accuracy: 0.7426 - val_aucroc: 0.5154\n",
      "Epoch 2/10\n",
      "69918/69918 [==============================] - 49s 701us/step - loss: 0.4509 - accuracy: 0.7780 - aucroc: 0.5800 - val_loss: 0.4455 - val_accuracy: 0.7949 - val_aucroc: 0.5808\n",
      "Epoch 3/10\n",
      "69918/69918 [==============================] - 49s 703us/step - loss: 0.4157 - accuracy: 0.8026 - aucroc: 0.6212 - val_loss: 0.4366 - val_accuracy: 0.8067 - val_aucroc: 0.6279\n",
      "Epoch 4/10\n",
      "69918/69918 [==============================] - 49s 703us/step - loss: 0.3900 - accuracy: 0.8157 - aucroc: 0.6509 - val_loss: 0.4034 - val_accuracy: 0.8130 - val_aucroc: 0.6903\n",
      "Epoch 5/10\n",
      "69918/69918 [==============================] - 49s 701us/step - loss: 0.3579 - accuracy: 0.8304 - aucroc: 0.6936 - val_loss: 0.4456 - val_accuracy: 0.7918 - val_aucroc: 0.5765\n",
      "Epoch 6/10\n",
      "69918/69918 [==============================] - 49s 701us/step - loss: 0.3214 - accuracy: 0.8458 - aucroc: 0.7528 - val_loss: 0.4488 - val_accuracy: 0.7911 - val_aucroc: 0.6401\n",
      "Epoch 7/10\n",
      "69918/69918 [==============================] - 49s 701us/step - loss: 0.2733 - accuracy: 0.8673 - aucroc: 0.8096 - val_loss: 0.4728 - val_accuracy: 0.7886 - val_aucroc: 0.5655\n",
      "Restoring model weights from the end of the best epoch.\n",
      "Epoch 00007: early stopping\n",
      "Validation loss for embedding units=32, lstm layer=128 ,numerical dense units=128   is : 0.4033743463610075\n",
      "Train on 69918 samples, validate on 17480 samples\n",
      "Epoch 1/10\n",
      "69918/69918 [==============================] - 52s 739us/step - loss: 0.5618 - accuracy: 0.6957 - aucroc: 0.5194 - val_loss: 0.4824 - val_accuracy: 0.8119 - val_aucroc: 0.5065\n",
      "Epoch 2/10\n",
      "69918/69918 [==============================] - 49s 703us/step - loss: 0.4482 - accuracy: 0.7979 - aucroc: 0.5369 - val_loss: 0.4450 - val_accuracy: 0.8432 - val_aucroc: 0.5603\n",
      "Epoch 3/10\n",
      "69918/69918 [==============================] - 49s 703us/step - loss: 0.4178 - accuracy: 0.8182 - aucroc: 0.5635 - val_loss: 0.4220 - val_accuracy: 0.8310 - val_aucroc: 0.6046\n",
      "Epoch 4/10\n",
      "69918/69918 [==============================] - 49s 701us/step - loss: 0.3912 - accuracy: 0.8411 - aucroc: 0.5730 - val_loss: 0.4290 - val_accuracy: 0.8473 - val_aucroc: 0.6011\n",
      "Epoch 5/10\n",
      "69918/69918 [==============================] - 49s 702us/step - loss: 0.3726 - accuracy: 0.8532 - aucroc: 0.6085 - val_loss: 0.3872 - val_accuracy: 0.8479 - val_aucroc: 0.6242\n",
      "Epoch 6/10\n",
      "69918/69918 [==============================] - 49s 703us/step - loss: 0.3515 - accuracy: 0.8592 - aucroc: 0.6409 - val_loss: 0.4314 - val_accuracy: 0.8224 - val_aucroc: 0.5902\n",
      "Epoch 7/10\n",
      "69918/69918 [==============================] - 49s 701us/step - loss: 0.3280 - accuracy: 0.8689 - aucroc: 0.6757 - val_loss: 0.4019 - val_accuracy: 0.8473 - val_aucroc: 0.6457\n",
      "Epoch 8/10\n",
      "69918/69918 [==============================] - 49s 703us/step - loss: 0.2920 - accuracy: 0.8826 - aucroc: 0.7225 - val_loss: 0.4154 - val_accuracy: 0.8444 - val_aucroc: 0.6646\n",
      "Epoch 9/10\n",
      "69918/69918 [==============================] - 49s 702us/step - loss: 0.2461 - accuracy: 0.9016 - aucroc: 0.7884 - val_loss: 0.4971 - val_accuracy: 0.8386 - val_aucroc: 0.5878\n",
      "Epoch 10/10\n",
      "69918/69918 [==============================] - 49s 703us/step - loss: 0.1945 - accuracy: 0.9234 - aucroc: 0.8469 - val_loss: 0.5924 - val_accuracy: 0.8432 - val_aucroc: 0.6344\n",
      "Validation loss for embedding units=32, lstm layer=128 ,numerical dense units=64   is : 0.41539070596684036\n",
      "Train on 69918 samples, validate on 17480 samples\n",
      "Epoch 1/10\n",
      "69918/69918 [==============================] - 52s 739us/step - loss: 0.5824 - accuracy: 0.6865 - aucroc: 0.5216 - val_loss: 0.5853 - val_accuracy: 0.7942 - val_aucroc: 0.5026\n",
      "Epoch 2/10\n",
      "69918/69918 [==============================] - 49s 702us/step - loss: 0.4574 - accuracy: 0.7905 - aucroc: 0.5365 - val_loss: 0.4611 - val_accuracy: 0.7973 - val_aucroc: 0.5078\n",
      "Epoch 3/10\n",
      "69918/69918 [==============================] - 49s 701us/step - loss: 0.4201 - accuracy: 0.8254 - aucroc: 0.5470 - val_loss: 0.4166 - val_accuracy: 0.8087 - val_aucroc: 0.5415\n",
      "Epoch 4/10\n",
      "69918/69918 [==============================] - 49s 703us/step - loss: 0.4000 - accuracy: 0.8389 - aucroc: 0.5579 - val_loss: 0.3965 - val_accuracy: 0.8308 - val_aucroc: 0.5841\n",
      "Epoch 5/10\n",
      "69918/69918 [==============================] - 49s 702us/step - loss: 0.3818 - accuracy: 0.8479 - aucroc: 0.5978 - val_loss: 0.3871 - val_accuracy: 0.8518 - val_aucroc: 0.5754\n",
      "Epoch 6/10\n",
      "69918/69918 [==============================] - 49s 703us/step - loss: 0.3660 - accuracy: 0.8549 - aucroc: 0.6074 - val_loss: 0.3778 - val_accuracy: 0.8511 - val_aucroc: 0.6698\n",
      "Epoch 7/10\n",
      "69918/69918 [==============================] - 49s 703us/step - loss: 0.3479 - accuracy: 0.8626 - aucroc: 0.6444 - val_loss: 0.3902 - val_accuracy: 0.8414 - val_aucroc: 0.6301\n",
      "Epoch 8/10\n",
      "69918/69918 [==============================] - 49s 703us/step - loss: 0.3255 - accuracy: 0.8696 - aucroc: 0.6820 - val_loss: 0.4059 - val_accuracy: 0.8347 - val_aucroc: 0.6349\n",
      "Epoch 9/10\n",
      "69918/69918 [==============================] - 49s 703us/step - loss: 0.2978 - accuracy: 0.8805 - aucroc: 0.7320 - val_loss: 0.3988 - val_accuracy: 0.8452 - val_aucroc: 0.6282\n",
      "Restoring model weights from the end of the best epoch.\n",
      "Epoch 00009: early stopping\n",
      "Validation loss for embedding units=32, lstm layer=128 ,numerical dense units=32   is : 0.37780725383103847\n",
      "Train on 69918 samples, validate on 17480 samples\n",
      "Epoch 1/10\n",
      "69918/69918 [==============================] - 34s 484us/step - loss: 0.5573 - accuracy: 0.7088 - aucroc: 0.5358 - val_loss: 0.4654 - val_accuracy: 0.7753 - val_aucroc: 0.5616\n",
      "Epoch 2/10\n",
      "69918/69918 [==============================] - 31s 448us/step - loss: 0.4504 - accuracy: 0.7809 - aucroc: 0.5721 - val_loss: 0.4835 - val_accuracy: 0.7946 - val_aucroc: 0.6239\n",
      "Epoch 3/10\n",
      "69918/69918 [==============================] - 31s 443us/step - loss: 0.4185 - accuracy: 0.8030 - aucroc: 0.6038 - val_loss: 0.4381 - val_accuracy: 0.8104 - val_aucroc: 0.6579\n",
      "Epoch 4/10\n",
      "69918/69918 [==============================] - 31s 445us/step - loss: 0.3941 - accuracy: 0.8217 - aucroc: 0.6302 - val_loss: 0.4058 - val_accuracy: 0.8249 - val_aucroc: 0.6941\n",
      "Epoch 5/10\n",
      "69918/69918 [==============================] - 31s 445us/step - loss: 0.3735 - accuracy: 0.8342 - aucroc: 0.6673 - val_loss: 0.3938 - val_accuracy: 0.8308 - val_aucroc: 0.6470\n",
      "Epoch 6/10\n",
      "69918/69918 [==============================] - 31s 445us/step - loss: 0.3529 - accuracy: 0.8464 - aucroc: 0.6882 - val_loss: 0.4311 - val_accuracy: 0.8324 - val_aucroc: 0.6969\n",
      "Epoch 7/10\n",
      "69918/69918 [==============================] - 31s 446us/step - loss: 0.3347 - accuracy: 0.8532 - aucroc: 0.7346 - val_loss: 0.4403 - val_accuracy: 0.7975 - val_aucroc: 0.7130\n",
      "Epoch 8/10\n",
      "69918/69918 [==============================] - 31s 447us/step - loss: 0.3137 - accuracy: 0.8621 - aucroc: 0.7590 - val_loss: 0.4321 - val_accuracy: 0.8100 - val_aucroc: 0.6958\n",
      "Epoch 9/10\n",
      "69918/69918 [==============================] - 31s 450us/step - loss: 0.2880 - accuracy: 0.8739 - aucroc: 0.7894 - val_loss: 0.4451 - val_accuracy: 0.8261 - val_aucroc: 0.6874\n",
      "Epoch 10/10\n",
      "69918/69918 [==============================] - 31s 449us/step - loss: 0.2638 - accuracy: 0.8848 - aucroc: 0.8233 - val_loss: 0.4761 - val_accuracy: 0.8070 - val_aucroc: 0.7035\n",
      "Restoring model weights from the end of the best epoch.\n",
      "Epoch 00010: early stopping\n",
      "Validation loss for embedding units=64, lstm layer=32 ,numerical dense units=128   is : 0.4402527114210194\n",
      "Train on 69918 samples, validate on 17480 samples\n",
      "Epoch 1/10\n",
      "69918/69918 [==============================] - 35s 498us/step - loss: 0.5622 - accuracy: 0.7096 - aucroc: 0.5183 - val_loss: 0.5002 - val_accuracy: 0.7896 - val_aucroc: 0.5015\n",
      "Epoch 2/10\n",
      "69918/69918 [==============================] - 31s 449us/step - loss: 0.4481 - accuracy: 0.7987 - aucroc: 0.5199 - val_loss: 0.4187 - val_accuracy: 0.8350 - val_aucroc: 0.5468\n",
      "Epoch 3/10\n",
      "69918/69918 [==============================] - 31s 450us/step - loss: 0.4095 - accuracy: 0.8320 - aucroc: 0.5318 - val_loss: 0.4035 - val_accuracy: 0.8518 - val_aucroc: 0.5554\n",
      "Epoch 4/10\n",
      "69918/69918 [==============================] - 31s 446us/step - loss: 0.3890 - accuracy: 0.8469 - aucroc: 0.5475 - val_loss: 0.4121 - val_accuracy: 0.8464 - val_aucroc: 0.5313\n",
      "Epoch 5/10\n",
      "69918/69918 [==============================] - 31s 445us/step - loss: 0.3689 - accuracy: 0.8566 - aucroc: 0.5780 - val_loss: 0.4055 - val_accuracy: 0.8535 - val_aucroc: 0.5964\n",
      "Epoch 6/10\n",
      "69918/69918 [==============================] - 31s 445us/step - loss: 0.3506 - accuracy: 0.8621 - aucroc: 0.6062 - val_loss: 0.4213 - val_accuracy: 0.8531 - val_aucroc: 0.5702\n",
      "Epoch 7/10\n",
      "69918/69918 [==============================] - 31s 444us/step - loss: 0.3294 - accuracy: 0.8711 - aucroc: 0.6521 - val_loss: 0.4345 - val_accuracy: 0.8533 - val_aucroc: 0.6195\n",
      "Epoch 8/10\n",
      "69918/69918 [==============================] - 31s 445us/step - loss: 0.3042 - accuracy: 0.8799 - aucroc: 0.6852 - val_loss: 0.4558 - val_accuracy: 0.8514 - val_aucroc: 0.6186\n",
      "Epoch 9/10\n",
      "69918/69918 [==============================] - 31s 447us/step - loss: 0.2725 - accuracy: 0.8937 - aucroc: 0.7317 - val_loss: 0.5419 - val_accuracy: 0.8523 - val_aucroc: 0.6230\n",
      "Epoch 10/10\n",
      "69918/69918 [==============================] - 31s 445us/step - loss: 0.2384 - accuracy: 0.9059 - aucroc: 0.7698 - val_loss: 0.5244 - val_accuracy: 0.8450 - val_aucroc: 0.6042\n",
      "Validation loss for embedding units=64, lstm layer=32 ,numerical dense units=64   is : 0.5419022476373057\n",
      "Train on 69918 samples, validate on 17480 samples\n",
      "Epoch 1/10\n",
      "69918/69918 [==============================] - 34s 488us/step - loss: 0.5549 - accuracy: 0.7052 - aucroc: 0.5212 - val_loss: 0.4481 - val_accuracy: 0.8381 - val_aucroc: 0.5039\n",
      "Epoch 2/10\n",
      "69918/69918 [==============================] - 31s 445us/step - loss: 0.4472 - accuracy: 0.7945 - aucroc: 0.5462 - val_loss: 0.4583 - val_accuracy: 0.8277 - val_aucroc: 0.5638\n",
      "Epoch 3/10\n",
      "69918/69918 [==============================] - 31s 445us/step - loss: 0.4128 - accuracy: 0.8188 - aucroc: 0.5703 - val_loss: 0.4248 - val_accuracy: 0.8348 - val_aucroc: 0.6237\n",
      "Epoch 4/10\n",
      "69918/69918 [==============================] - 31s 447us/step - loss: 0.3921 - accuracy: 0.8340 - aucroc: 0.5948 - val_loss: 0.4178 - val_accuracy: 0.8415 - val_aucroc: 0.6296\n",
      "Epoch 5/10\n",
      "69918/69918 [==============================] - 31s 445us/step - loss: 0.3750 - accuracy: 0.8460 - aucroc: 0.6183 - val_loss: 0.3978 - val_accuracy: 0.8404 - val_aucroc: 0.5932\n",
      "Epoch 6/10\n",
      "69918/69918 [==============================] - 31s 448us/step - loss: 0.3591 - accuracy: 0.8537 - aucroc: 0.6518 - val_loss: 0.3886 - val_accuracy: 0.8423 - val_aucroc: 0.6481\n",
      "Epoch 7/10\n",
      "69918/69918 [==============================] - 31s 450us/step - loss: 0.3439 - accuracy: 0.8611 - aucroc: 0.6675 - val_loss: 0.4098 - val_accuracy: 0.8445 - val_aucroc: 0.5338\n",
      "Epoch 8/10\n",
      "69918/69918 [==============================] - 31s 447us/step - loss: 0.3267 - accuracy: 0.8681 - aucroc: 0.7107 - val_loss: 0.3912 - val_accuracy: 0.8424 - val_aucroc: 0.6716\n",
      "Epoch 9/10\n",
      "69918/69918 [==============================] - 31s 447us/step - loss: 0.3099 - accuracy: 0.8743 - aucroc: 0.7362 - val_loss: 0.4048 - val_accuracy: 0.8419 - val_aucroc: 0.6554\n",
      "Epoch 10/10\n",
      "69918/69918 [==============================] - 32s 457us/step - loss: 0.2890 - accuracy: 0.8815 - aucroc: 0.7697 - val_loss: 0.4566 - val_accuracy: 0.7937 - val_aucroc: 0.6903\n",
      "Validation loss for embedding units=64, lstm layer=32 ,numerical dense units=32   is : 0.45657787054299764\n",
      "Train on 69918 samples, validate on 17480 samples\n",
      "Epoch 1/10\n",
      "69918/69918 [==============================] - 40s 577us/step - loss: 0.6010 - accuracy: 0.6546 - aucroc: 0.5168 - val_loss: 0.6910 - val_accuracy: 0.8440 - val_aucroc: 0.5363\n",
      "Epoch 2/10\n",
      "69918/69918 [==============================] - 38s 541us/step - loss: 0.4709 - accuracy: 0.7745 - aucroc: 0.5286 - val_loss: 0.4925 - val_accuracy: 0.8143 - val_aucroc: 0.5429\n",
      "Epoch 3/10\n",
      "69918/69918 [==============================] - 37s 531us/step - loss: 0.4275 - accuracy: 0.8130 - aucroc: 0.5465 - val_loss: 0.4918 - val_accuracy: 0.8408 - val_aucroc: 0.6212\n",
      "Epoch 4/10\n",
      "69918/69918 [==============================] - 38s 547us/step - loss: 0.3953 - accuracy: 0.8403 - aucroc: 0.5730 - val_loss: 0.3953 - val_accuracy: 0.8376 - val_aucroc: 0.6027\n",
      "Epoch 5/10\n",
      "69918/69918 [==============================] - 37s 536us/step - loss: 0.3772 - accuracy: 0.8505 - aucroc: 0.5993 - val_loss: 0.3875 - val_accuracy: 0.8387 - val_aucroc: 0.6043\n",
      "Epoch 6/10\n",
      "69918/69918 [==============================] - 37s 530us/step - loss: 0.3630 - accuracy: 0.8546 - aucroc: 0.6288 - val_loss: 0.3770 - val_accuracy: 0.8481 - val_aucroc: 0.6331\n",
      "Epoch 7/10\n",
      "69918/69918 [==============================] - 37s 531us/step - loss: 0.3412 - accuracy: 0.8634 - aucroc: 0.6724 - val_loss: 0.4422 - val_accuracy: 0.7928 - val_aucroc: 0.6567\n",
      "Epoch 8/10\n",
      "69918/69918 [==============================] - 37s 529us/step - loss: 0.3202 - accuracy: 0.8731 - aucroc: 0.7161 - val_loss: 0.4229 - val_accuracy: 0.8180 - val_aucroc: 0.6607\n",
      "Epoch 9/10\n",
      "69918/69918 [==============================] - 37s 529us/step - loss: 0.2953 - accuracy: 0.8823 - aucroc: 0.7602 - val_loss: 0.4493 - val_accuracy: 0.8013 - val_aucroc: 0.6933\n",
      "Epoch 10/10\n",
      "69918/69918 [==============================] - 37s 531us/step - loss: 0.2667 - accuracy: 0.8936 - aucroc: 0.7983 - val_loss: 0.4405 - val_accuracy: 0.8335 - val_aucroc: 0.6674\n",
      "Validation loss for embedding units=64, lstm layer=64 ,numerical dense units=128   is : 0.44931059789330247\n",
      "Train on 69918 samples, validate on 17480 samples\n",
      "Epoch 1/10\n",
      "69918/69918 [==============================] - 40s 576us/step - loss: 0.5764 - accuracy: 0.6805 - aucroc: 0.5200 - val_loss: 0.6075 - val_accuracy: 0.7898 - val_aucroc: 0.5203\n",
      "Epoch 2/10\n",
      "69918/69918 [==============================] - 37s 528us/step - loss: 0.4516 - accuracy: 0.7943 - aucroc: 0.5262 - val_loss: 0.4670 - val_accuracy: 0.8292 - val_aucroc: 0.5451\n",
      "Epoch 3/10\n",
      "69918/69918 [==============================] - 37s 527us/step - loss: 0.4137 - accuracy: 0.8281 - aucroc: 0.5461 - val_loss: 0.4272 - val_accuracy: 0.8432 - val_aucroc: 0.5397\n",
      "Epoch 4/10\n",
      "69918/69918 [==============================] - 37s 528us/step - loss: 0.3943 - accuracy: 0.8406 - aucroc: 0.5730 - val_loss: 0.3888 - val_accuracy: 0.8418 - val_aucroc: 0.6258\n",
      "Epoch 5/10\n",
      "69918/69918 [==============================] - 37s 530us/step - loss: 0.3780 - accuracy: 0.8477 - aucroc: 0.6107 - val_loss: 0.3849 - val_accuracy: 0.8495 - val_aucroc: 0.6373\n",
      "Epoch 6/10\n",
      "69918/69918 [==============================] - 37s 528us/step - loss: 0.3629 - accuracy: 0.8576 - aucroc: 0.6292 - val_loss: 0.4054 - val_accuracy: 0.8378 - val_aucroc: 0.6462\n",
      "Epoch 7/10\n",
      "69918/69918 [==============================] - 37s 527us/step - loss: 0.3488 - accuracy: 0.8618 - aucroc: 0.6539 - val_loss: 0.3810 - val_accuracy: 0.8460 - val_aucroc: 0.6325\n",
      "Epoch 8/10\n",
      "69918/69918 [==============================] - 37s 528us/step - loss: 0.3276 - accuracy: 0.8690 - aucroc: 0.7098 - val_loss: 0.4735 - val_accuracy: 0.7879 - val_aucroc: 0.6659\n",
      "Epoch 9/10\n",
      "69918/69918 [==============================] - 37s 529us/step - loss: 0.3059 - accuracy: 0.8770 - aucroc: 0.7459 - val_loss: 0.4081 - val_accuracy: 0.8457 - val_aucroc: 0.6178\n",
      "Epoch 10/10\n",
      "69918/69918 [==============================] - 37s 532us/step - loss: 0.2786 - accuracy: 0.8880 - aucroc: 0.7849 - val_loss: 0.4300 - val_accuracy: 0.8404 - val_aucroc: 0.6795\n",
      "Validation loss for embedding units=64, lstm layer=64 ,numerical dense units=64   is : 0.4300331729091278\n",
      "Train on 69918 samples, validate on 17480 samples\n",
      "Epoch 1/10\n",
      "69918/69918 [==============================] - 43s 615us/step - loss: 0.5682 - accuracy: 0.6967 - aucroc: 0.5205 - val_loss: 0.5246 - val_accuracy: 0.7807 - val_aucroc: 0.5248\n",
      "Epoch 2/10\n",
      "69918/69918 [==============================] - 40s 569us/step - loss: 0.4535 - accuracy: 0.7884 - aucroc: 0.5476 - val_loss: 0.4341 - val_accuracy: 0.8136 - val_aucroc: 0.5704\n",
      "Epoch 3/10\n",
      "69918/69918 [==============================] - 40s 570us/step - loss: 0.4138 - accuracy: 0.8196 - aucroc: 0.5787 - val_loss: 0.4080 - val_accuracy: 0.8328 - val_aucroc: 0.6070\n",
      "Epoch 4/10\n",
      "69918/69918 [==============================] - 40s 567us/step - loss: 0.3893 - accuracy: 0.8375 - aucroc: 0.6044 - val_loss: 0.4082 - val_accuracy: 0.8180 - val_aucroc: 0.6164\n",
      "Epoch 5/10\n",
      "69918/69918 [==============================] - 39s 564us/step - loss: 0.3689 - accuracy: 0.8521 - aucroc: 0.6302 - val_loss: 0.4346 - val_accuracy: 0.8473 - val_aucroc: 0.5978\n",
      "Epoch 6/10\n",
      "69918/69918 [==============================] - 40s 569us/step - loss: 0.3508 - accuracy: 0.8578 - aucroc: 0.6526 - val_loss: 0.4975 - val_accuracy: 0.7444 - val_aucroc: 0.5666\n",
      "Epoch 7/10\n",
      "69918/69918 [==============================] - 40s 567us/step - loss: 0.3279 - accuracy: 0.8678 - aucroc: 0.6970 - val_loss: 0.4152 - val_accuracy: 0.8444 - val_aucroc: 0.6156\n",
      "Restoring model weights from the end of the best epoch.\n",
      "Epoch 00007: early stopping\n",
      "Validation loss for embedding units=64, lstm layer=64 ,numerical dense units=32   is : 0.40818171868062403\n",
      "Train on 69918 samples, validate on 17480 samples\n",
      "Epoch 1/10\n",
      "69918/69918 [==============================] - 66s 949us/step - loss: 0.5767 - accuracy: 0.6769 - aucroc: 0.5285 - val_loss: 0.5390 - val_accuracy: 0.6939 - val_aucroc: 0.5247\n",
      "Epoch 2/10\n",
      "69918/69918 [==============================] - 62s 894us/step - loss: 0.4590 - accuracy: 0.7668 - aucroc: 0.5615 - val_loss: 0.4854 - val_accuracy: 0.7823 - val_aucroc: 0.6179\n",
      "Epoch 3/10\n",
      "69918/69918 [==============================] - 62s 893us/step - loss: 0.4209 - accuracy: 0.7926 - aucroc: 0.5961 - val_loss: 0.4747 - val_accuracy: 0.7990 - val_aucroc: 0.5995\n",
      "Epoch 4/10\n",
      "69918/69918 [==============================] - 62s 888us/step - loss: 0.3899 - accuracy: 0.8102 - aucroc: 0.6341 - val_loss: 0.4165 - val_accuracy: 0.8078 - val_aucroc: 0.6760\n",
      "Epoch 5/10\n",
      "69918/69918 [==============================] - 62s 889us/step - loss: 0.3579 - accuracy: 0.8263 - aucroc: 0.6774 - val_loss: 0.4780 - val_accuracy: 0.8136 - val_aucroc: 0.6491\n",
      "Epoch 6/10\n",
      "69918/69918 [==============================] - 62s 890us/step - loss: 0.3141 - accuracy: 0.8476 - aucroc: 0.7361 - val_loss: 0.5873 - val_accuracy: 0.8157 - val_aucroc: 0.6114\n",
      "Epoch 7/10\n",
      "69918/69918 [==============================] - 62s 892us/step - loss: 0.2624 - accuracy: 0.8720 - aucroc: 0.8038 - val_loss: 0.6317 - val_accuracy: 0.8247 - val_aucroc: 0.6338\n",
      "Restoring model weights from the end of the best epoch.\n",
      "Epoch 00007: early stopping\n",
      "Validation loss for embedding units=64, lstm layer=128 ,numerical dense units=128   is : 0.41649969014204885\n",
      "Train on 69918 samples, validate on 17480 samples\n",
      "Epoch 1/10\n",
      "69918/69918 [==============================] - 67s 963us/step - loss: 0.5353 - accuracy: 0.7274 - aucroc: 0.5196 - val_loss: 0.4497 - val_accuracy: 0.8247 - val_aucroc: 0.5261\n",
      "Epoch 2/10\n",
      "69918/69918 [==============================] - 64s 912us/step - loss: 0.4354 - accuracy: 0.8077 - aucroc: 0.5378 - val_loss: 0.4242 - val_accuracy: 0.8184 - val_aucroc: 0.5398\n",
      "Epoch 3/10\n",
      "69918/69918 [==============================] - 64s 909us/step - loss: 0.4045 - accuracy: 0.8331 - aucroc: 0.5624 - val_loss: 0.4078 - val_accuracy: 0.8344 - val_aucroc: 0.5814\n",
      "Epoch 4/10\n",
      "69918/69918 [==============================] - 64s 913us/step - loss: 0.3863 - accuracy: 0.8426 - aucroc: 0.5877 - val_loss: 0.4358 - val_accuracy: 0.8507 - val_aucroc: 0.6054\n",
      "Epoch 5/10\n",
      "69918/69918 [==============================] - 64s 910us/step - loss: 0.3653 - accuracy: 0.8547 - aucroc: 0.6308 - val_loss: 0.4078 - val_accuracy: 0.8295 - val_aucroc: 0.5948\n",
      "Epoch 6/10\n",
      "69918/69918 [==============================] - 64s 911us/step - loss: 0.3478 - accuracy: 0.8624 - aucroc: 0.6622 - val_loss: 0.4136 - val_accuracy: 0.8186 - val_aucroc: 0.5977\n",
      "Epoch 7/10\n",
      "69918/69918 [==============================] - 64s 912us/step - loss: 0.3193 - accuracy: 0.8726 - aucroc: 0.7030 - val_loss: 0.4280 - val_accuracy: 0.8477 - val_aucroc: 0.6583\n",
      "Epoch 8/10\n",
      "69918/69918 [==============================] - 64s 911us/step - loss: 0.2845 - accuracy: 0.8871 - aucroc: 0.7555 - val_loss: 0.8855 - val_accuracy: 0.5154 - val_aucroc: 0.5821\n",
      "Epoch 9/10\n",
      "69918/69918 [==============================] - 64s 913us/step - loss: 0.2415 - accuracy: 0.9034 - aucroc: 0.8133 - val_loss: 0.5190 - val_accuracy: 0.8474 - val_aucroc: 0.6799\n",
      "Epoch 10/10\n",
      "69918/69918 [==============================] - 64s 911us/step - loss: 0.1904 - accuracy: 0.9266 - aucroc: 0.8647 - val_loss: 0.6043 - val_accuracy: 0.8339 - val_aucroc: 0.6727\n",
      "Validation loss for embedding units=64, lstm layer=128 ,numerical dense units=64   is : 0.5189943160836157\n",
      "Train on 69918 samples, validate on 17480 samples\n",
      "Epoch 1/10\n",
      "69918/69918 [==============================] - 68s 973us/step - loss: 0.5490 - accuracy: 0.7046 - aucroc: 0.5346 - val_loss: 0.4815 - val_accuracy: 0.7700 - val_aucroc: 0.5425\n",
      "Epoch 2/10\n",
      "69918/69918 [==============================] - 64s 920us/step - loss: 0.4492 - accuracy: 0.7800 - aucroc: 0.5812 - val_loss: 0.4516 - val_accuracy: 0.7943 - val_aucroc: 0.6580\n",
      "Epoch 3/10\n",
      "69918/69918 [==============================] - 64s 918us/step - loss: 0.4125 - accuracy: 0.8024 - aucroc: 0.6234 - val_loss: 0.4360 - val_accuracy: 0.7987 - val_aucroc: 0.6520\n",
      "Epoch 4/10\n",
      "69918/69918 [==============================] - 64s 920us/step - loss: 0.3826 - accuracy: 0.8150 - aucroc: 0.6650 - val_loss: 0.4132 - val_accuracy: 0.8114 - val_aucroc: 0.6734\n",
      "Epoch 5/10\n",
      "69918/69918 [==============================] - 64s 920us/step - loss: 0.3457 - accuracy: 0.8341 - aucroc: 0.7093 - val_loss: 0.4798 - val_accuracy: 0.8154 - val_aucroc: 0.6663\n",
      "Epoch 6/10\n",
      "69918/69918 [==============================] - 65s 935us/step - loss: 0.2990 - accuracy: 0.8562 - aucroc: 0.7672 - val_loss: 0.4705 - val_accuracy: 0.8216 - val_aucroc: 0.6815\n",
      "Epoch 7/10\n",
      "69918/69918 [==============================] - 67s 954us/step - loss: 0.2420 - accuracy: 0.8835 - aucroc: 0.8293 - val_loss: 0.6642 - val_accuracy: 0.8238 - val_aucroc: 0.6647\n",
      "Epoch 8/10\n",
      "69918/69918 [==============================] - 66s 950us/step - loss: 0.1862 - accuracy: 0.9097 - aucroc: 0.8929 - val_loss: 0.5623 - val_accuracy: 0.8092 - val_aucroc: 0.6596\n",
      "Epoch 9/10\n",
      "69918/69918 [==============================] - 64s 918us/step - loss: 0.1443 - accuracy: 0.9280 - aucroc: 0.9192 - val_loss: 0.7938 - val_accuracy: 0.8211 - val_aucroc: 0.6729\n",
      "Restoring model weights from the end of the best epoch.\n",
      "Epoch 00009: early stopping\n",
      "Validation loss for embedding units=64, lstm layer=128 ,numerical dense units=32   is : 0.470457313876403\n",
      "Train on 69918 samples, validate on 17480 samples\n",
      "Epoch 1/10\n",
      "69918/69918 [==============================] - 52s 750us/step - loss: 0.5517 - accuracy: 0.7183 - aucroc: 0.5531 - val_loss: 0.5362 - val_accuracy: 0.7277 - val_aucroc: 0.5730\n",
      "Epoch 2/10\n",
      "69918/69918 [==============================] - 48s 681us/step - loss: 0.4456 - accuracy: 0.7878 - aucroc: 0.5666 - val_loss: 0.4210 - val_accuracy: 0.8052 - val_aucroc: 0.5681\n",
      "Epoch 3/10\n",
      "69918/69918 [==============================] - 50s 712us/step - loss: 0.4159 - accuracy: 0.8060 - aucroc: 0.5934 - val_loss: 0.4294 - val_accuracy: 0.8121 - val_aucroc: 0.6601\n",
      "Epoch 4/10\n",
      "69918/69918 [==============================] - 48s 679us/step - loss: 0.3961 - accuracy: 0.8185 - aucroc: 0.6310 - val_loss: 0.4155 - val_accuracy: 0.8205 - val_aucroc: 0.6624\n",
      "Epoch 5/10\n",
      "69918/69918 [==============================] - 48s 688us/step - loss: 0.3777 - accuracy: 0.8300 - aucroc: 0.6532 - val_loss: 0.4249 - val_accuracy: 0.8266 - val_aucroc: 0.6347\n",
      "Epoch 6/10\n",
      "69918/69918 [==============================] - 48s 681us/step - loss: 0.3609 - accuracy: 0.8389 - aucroc: 0.6884 - val_loss: 0.4100 - val_accuracy: 0.8267 - val_aucroc: 0.6900\n",
      "Epoch 7/10\n",
      "69918/69918 [==============================] - 48s 689us/step - loss: 0.3411 - accuracy: 0.8477 - aucroc: 0.7243 - val_loss: 0.4008 - val_accuracy: 0.8303 - val_aucroc: 0.7065\n",
      "Epoch 8/10\n",
      "69918/69918 [==============================] - 49s 698us/step - loss: 0.3231 - accuracy: 0.8551 - aucroc: 0.7483 - val_loss: 0.4219 - val_accuracy: 0.8290 - val_aucroc: 0.6844\n",
      "Epoch 9/10\n",
      "69918/69918 [==============================] - 51s 731us/step - loss: 0.2991 - accuracy: 0.8660 - aucroc: 0.7803 - val_loss: 0.4405 - val_accuracy: 0.8027 - val_aucroc: 0.7028\n",
      "Epoch 10/10\n",
      "69918/69918 [==============================] - 49s 700us/step - loss: 0.2759 - accuracy: 0.8746 - aucroc: 0.8103 - val_loss: 0.5436 - val_accuracy: 0.8296 - val_aucroc: 0.6868\n",
      "Restoring model weights from the end of the best epoch.\n",
      "Epoch 00010: early stopping\n",
      "Validation loss for embedding units=128, lstm layer=32 ,numerical dense units=128   is : 0.40075305206551975\n",
      "Train on 69918 samples, validate on 17480 samples\n",
      "Epoch 1/10\n",
      "69918/69918 [==============================] - 52s 739us/step - loss: 0.5700 - accuracy: 0.7029 - aucroc: 0.5454 - val_loss: 0.4951 - val_accuracy: 0.7707 - val_aucroc: 0.5460\n",
      "Epoch 2/10\n",
      "69918/69918 [==============================] - 47s 677us/step - loss: 0.4513 - accuracy: 0.7848 - aucroc: 0.5782 - val_loss: 0.4712 - val_accuracy: 0.7970 - val_aucroc: 0.5916\n",
      "Epoch 3/10\n",
      "69918/69918 [==============================] - 47s 675us/step - loss: 0.4219 - accuracy: 0.8015 - aucroc: 0.5926 - val_loss: 0.4077 - val_accuracy: 0.8090 - val_aucroc: 0.6452\n",
      "Epoch 4/10\n",
      "69918/69918 [==============================] - 47s 677us/step - loss: 0.3984 - accuracy: 0.8144 - aucroc: 0.6273 - val_loss: 0.4229 - val_accuracy: 0.8156 - val_aucroc: 0.6013\n",
      "Epoch 5/10\n",
      "69918/69918 [==============================] - 47s 675us/step - loss: 0.3790 - accuracy: 0.8267 - aucroc: 0.6571 - val_loss: 0.3955 - val_accuracy: 0.8224 - val_aucroc: 0.6887\n",
      "Epoch 6/10\n",
      "69918/69918 [==============================] - 47s 678us/step - loss: 0.3586 - accuracy: 0.8390 - aucroc: 0.6803 - val_loss: 0.4014 - val_accuracy: 0.8221 - val_aucroc: 0.6996\n",
      "Epoch 7/10\n",
      "69918/69918 [==============================] - 48s 680us/step - loss: 0.3381 - accuracy: 0.8484 - aucroc: 0.7227 - val_loss: 0.4138 - val_accuracy: 0.8292 - val_aucroc: 0.6680\n",
      "Epoch 8/10\n",
      "69918/69918 [==============================] - 47s 674us/step - loss: 0.3125 - accuracy: 0.8599 - aucroc: 0.7536 - val_loss: 0.4265 - val_accuracy: 0.8135 - val_aucroc: 0.6307\n",
      "Epoch 9/10\n",
      "69918/69918 [==============================] - 48s 681us/step - loss: 0.2878 - accuracy: 0.8701 - aucroc: 0.7899 - val_loss: 0.5446 - val_accuracy: 0.7059 - val_aucroc: 0.6007\n",
      "Restoring model weights from the end of the best epoch.\n",
      "Epoch 00009: early stopping\n",
      "Validation loss for embedding units=128, lstm layer=32 ,numerical dense units=64   is : 0.4014448603994514\n",
      "Train on 69918 samples, validate on 17480 samples\n",
      "Epoch 1/10\n",
      "69918/69918 [==============================] - 53s 759us/step - loss: 0.5714 - accuracy: 0.6894 - aucroc: 0.5175 - val_loss: 0.4598 - val_accuracy: 0.8313 - val_aucroc: 0.5019\n",
      "Epoch 2/10\n",
      "69918/69918 [==============================] - 47s 671us/step - loss: 0.4548 - accuracy: 0.7876 - aucroc: 0.5350 - val_loss: 0.4857 - val_accuracy: 0.8346 - val_aucroc: 0.5673\n",
      "Epoch 3/10\n",
      "69918/69918 [==============================] - 47s 670us/step - loss: 0.4158 - accuracy: 0.8193 - aucroc: 0.5636 - val_loss: 0.4219 - val_accuracy: 0.8265 - val_aucroc: 0.6430\n",
      "Epoch 4/10\n",
      "69918/69918 [==============================] - 48s 680us/step - loss: 0.3945 - accuracy: 0.8345 - aucroc: 0.5847 - val_loss: 0.4241 - val_accuracy: 0.8389 - val_aucroc: 0.6014\n",
      "Epoch 5/10\n",
      "69918/69918 [==============================] - 47s 676us/step - loss: 0.3729 - accuracy: 0.8474 - aucroc: 0.6252 - val_loss: 0.3968 - val_accuracy: 0.8301 - val_aucroc: 0.5933\n",
      "Epoch 6/10\n",
      "69918/69918 [==============================] - 47s 669us/step - loss: 0.3568 - accuracy: 0.8550 - aucroc: 0.6474 - val_loss: 0.3823 - val_accuracy: 0.8439 - val_aucroc: 0.7046\n",
      "Epoch 7/10\n",
      "69918/69918 [==============================] - 47s 669us/step - loss: 0.3399 - accuracy: 0.8620 - aucroc: 0.6833 - val_loss: 0.3948 - val_accuracy: 0.8503 - val_aucroc: 0.6518\n",
      "Epoch 8/10\n",
      "69918/69918 [==============================] - 47s 670us/step - loss: 0.3221 - accuracy: 0.8696 - aucroc: 0.7068 - val_loss: 0.4282 - val_accuracy: 0.8109 - val_aucroc: 0.6817\n",
      "Epoch 9/10\n",
      "69918/69918 [==============================] - 47s 670us/step - loss: 0.3030 - accuracy: 0.8756 - aucroc: 0.7396 - val_loss: 0.4906 - val_accuracy: 0.7652 - val_aucroc: 0.6251\n",
      "Restoring model weights from the end of the best epoch.\n",
      "Epoch 00009: early stopping\n",
      "Validation loss for embedding units=128, lstm layer=32 ,numerical dense units=32   is : 0.38227760218919277\n",
      "Train on 69918 samples, validate on 17480 samples\n",
      "Epoch 1/10\n",
      "69918/69918 [==============================] - 56s 801us/step - loss: 0.5544 - accuracy: 0.7168 - aucroc: 0.5373 - val_loss: 0.5760 - val_accuracy: 0.6923 - val_aucroc: 0.5196\n",
      "Epoch 2/10\n",
      "69918/69918 [==============================] - 52s 743us/step - loss: 0.4412 - accuracy: 0.7937 - aucroc: 0.5702 - val_loss: 0.4255 - val_accuracy: 0.8065 - val_aucroc: 0.5468\n",
      "Epoch 3/10\n",
      "69918/69918 [==============================] - 52s 744us/step - loss: 0.4105 - accuracy: 0.8100 - aucroc: 0.6020 - val_loss: 0.4018 - val_accuracy: 0.8159 - val_aucroc: 0.6474\n",
      "Epoch 4/10\n",
      "69918/69918 [==============================] - 52s 747us/step - loss: 0.3883 - accuracy: 0.8209 - aucroc: 0.6263 - val_loss: 0.4117 - val_accuracy: 0.8206 - val_aucroc: 0.6649\n",
      "Epoch 5/10\n",
      "69918/69918 [==============================] - 52s 745us/step - loss: 0.3633 - accuracy: 0.8350 - aucroc: 0.6710 - val_loss: 0.4409 - val_accuracy: 0.8244 - val_aucroc: 0.6365\n",
      "Epoch 6/10\n",
      "69918/69918 [==============================] - 52s 749us/step - loss: 0.3339 - accuracy: 0.8481 - aucroc: 0.7178 - val_loss: 0.4545 - val_accuracy: 0.8267 - val_aucroc: 0.6843\n",
      "Epoch 7/10\n",
      "69918/69918 [==============================] - 53s 751us/step - loss: 0.2979 - accuracy: 0.8649 - aucroc: 0.7717 - val_loss: 0.5017 - val_accuracy: 0.8277 - val_aucroc: 0.6936\n",
      "Epoch 8/10\n",
      "69918/69918 [==============================] - 52s 742us/step - loss: 0.2544 - accuracy: 0.8844 - aucroc: 0.8341 - val_loss: 0.5232 - val_accuracy: 0.8256 - val_aucroc: 0.6941\n",
      "Epoch 9/10\n",
      "69918/69918 [==============================] - 52s 744us/step - loss: 0.2110 - accuracy: 0.9041 - aucroc: 0.8742 - val_loss: 0.6600 - val_accuracy: 0.8274 - val_aucroc: 0.6714\n",
      "Epoch 10/10\n",
      "69918/69918 [==============================] - 52s 742us/step - loss: 0.1656 - accuracy: 0.9244 - aucroc: 0.9117 - val_loss: 0.7957 - val_accuracy: 0.8288 - val_aucroc: 0.6752\n",
      "Validation loss for embedding units=128, lstm layer=64 ,numerical dense units=128   is : 0.5232462870720049\n",
      "Train on 69918 samples, validate on 17480 samples\n",
      "Epoch 1/10\n",
      "69918/69918 [==============================] - 56s 805us/step - loss: 0.5507 - accuracy: 0.7047 - aucroc: 0.5159 - val_loss: 0.4474 - val_accuracy: 0.8246 - val_aucroc: 0.4997\n",
      "Epoch 2/10\n",
      "69918/69918 [==============================] - 52s 741us/step - loss: 0.4425 - accuracy: 0.8009 - aucroc: 0.5319 - val_loss: 0.4546 - val_accuracy: 0.8198 - val_aucroc: 0.5773\n",
      "Epoch 3/10\n",
      "69918/69918 [==============================] - 52s 746us/step - loss: 0.4074 - accuracy: 0.8319 - aucroc: 0.5487 - val_loss: 0.4107 - val_accuracy: 0.8442 - val_aucroc: 0.5854\n",
      "Epoch 4/10\n",
      "69918/69918 [==============================] - 52s 750us/step - loss: 0.3871 - accuracy: 0.8456 - aucroc: 0.5729 - val_loss: 0.3916 - val_accuracy: 0.8378 - val_aucroc: 0.5835\n",
      "Epoch 5/10\n",
      "69918/69918 [==============================] - 53s 760us/step - loss: 0.3726 - accuracy: 0.8508 - aucroc: 0.6033 - val_loss: 0.3811 - val_accuracy: 0.8509 - val_aucroc: 0.6428\n",
      "Epoch 6/10\n",
      "69918/69918 [==============================] - 57s 815us/step - loss: 0.3602 - accuracy: 0.8571 - aucroc: 0.6413 - val_loss: 0.3756 - val_accuracy: 0.8533 - val_aucroc: 0.6701\n",
      "Epoch 7/10\n",
      "69918/69918 [==============================] - 52s 744us/step - loss: 0.3437 - accuracy: 0.8631 - aucroc: 0.6822 - val_loss: 0.3957 - val_accuracy: 0.8317 - val_aucroc: 0.6821\n",
      "Epoch 8/10\n",
      "69918/69918 [==============================] - 52s 742us/step - loss: 0.3268 - accuracy: 0.8692 - aucroc: 0.7071 - val_loss: 0.4361 - val_accuracy: 0.8503 - val_aucroc: 0.6642\n",
      "Epoch 9/10\n",
      "69918/69918 [==============================] - 52s 745us/step - loss: 0.3061 - accuracy: 0.8769 - aucroc: 0.7461 - val_loss: 0.4462 - val_accuracy: 0.7981 - val_aucroc: 0.6964\n",
      "Epoch 10/10\n",
      "69918/69918 [==============================] - 52s 744us/step - loss: 0.2785 - accuracy: 0.8875 - aucroc: 0.7894 - val_loss: 0.4131 - val_accuracy: 0.8439 - val_aucroc: 0.6966\n",
      "Validation loss for embedding units=128, lstm layer=64 ,numerical dense units=64   is : 0.4131199818454018\n",
      "Train on 69918 samples, validate on 17480 samples\n",
      "Epoch 1/10\n",
      "69918/69918 [==============================] - 57s 809us/step - loss: 0.5706 - accuracy: 0.6939 - aucroc: 0.5386 - val_loss: 0.4693 - val_accuracy: 0.7598 - val_aucroc: 0.5249\n",
      "Epoch 2/10\n",
      "69918/69918 [==============================] - 52s 745us/step - loss: 0.4561 - accuracy: 0.7780 - aucroc: 0.5701 - val_loss: 0.4345 - val_accuracy: 0.7986 - val_aucroc: 0.5898\n",
      "Epoch 3/10\n",
      "69918/69918 [==============================] - 52s 745us/step - loss: 0.4193 - accuracy: 0.8027 - aucroc: 0.6079 - val_loss: 0.4398 - val_accuracy: 0.8077 - val_aucroc: 0.6332\n",
      "Epoch 4/10\n",
      "69918/69918 [==============================] - 52s 745us/step - loss: 0.3925 - accuracy: 0.8156 - aucroc: 0.6421 - val_loss: 0.4294 - val_accuracy: 0.8142 - val_aucroc: 0.6345\n",
      "Epoch 5/10\n",
      "69918/69918 [==============================] - 52s 745us/step - loss: 0.3664 - accuracy: 0.8293 - aucroc: 0.6831 - val_loss: 0.4118 - val_accuracy: 0.8154 - val_aucroc: 0.6485\n",
      "Epoch 6/10\n",
      "69918/69918 [==============================] - 52s 747us/step - loss: 0.3356 - accuracy: 0.8440 - aucroc: 0.7237 - val_loss: 0.4206 - val_accuracy: 0.8164 - val_aucroc: 0.6244\n",
      "Epoch 7/10\n",
      "69918/69918 [==============================] - 52s 743us/step - loss: 0.2979 - accuracy: 0.8609 - aucroc: 0.7788 - val_loss: 0.5295 - val_accuracy: 0.8235 - val_aucroc: 0.6434\n",
      "Epoch 8/10\n",
      "69918/69918 [==============================] - 52s 747us/step - loss: 0.2524 - accuracy: 0.8826 - aucroc: 0.8291 - val_loss: 0.6572 - val_accuracy: 0.8263 - val_aucroc: 0.6396\n",
      "Restoring model weights from the end of the best epoch.\n",
      "Epoch 00008: early stopping\n",
      "Validation loss for embedding units=128, lstm layer=64 ,numerical dense units=32   is : 0.41184669835343785\n",
      "Train on 69918 samples, validate on 17480 samples\n",
      "Epoch 1/10\n",
      "69918/69918 [==============================] - 70s 1ms/step - loss: 0.5700 - accuracy: 0.6919 - aucroc: 0.5199 - val_loss: 0.6791 - val_accuracy: 0.8324 - val_aucroc: 0.5154\n",
      "Epoch 2/10\n",
      "69918/69918 [==============================] - 65s 930us/step - loss: 0.4476 - accuracy: 0.8112 - aucroc: 0.5196 - val_loss: 0.4299 - val_accuracy: 0.8422 - val_aucroc: 0.5158\n",
      "Epoch 3/10\n",
      "69918/69918 [==============================] - 65s 933us/step - loss: 0.4123 - accuracy: 0.8408 - aucroc: 0.5449 - val_loss: 0.4161 - val_accuracy: 0.8314 - val_aucroc: 0.5598\n",
      "Epoch 4/10\n",
      "69918/69918 [==============================] - 65s 936us/step - loss: 0.3926 - accuracy: 0.8465 - aucroc: 0.5693 - val_loss: 0.4010 - val_accuracy: 0.8477 - val_aucroc: 0.6018\n",
      "Epoch 5/10\n",
      "69918/69918 [==============================] - 66s 938us/step - loss: 0.3821 - accuracy: 0.8487 - aucroc: 0.5891 - val_loss: 0.3777 - val_accuracy: 0.8515 - val_aucroc: 0.6680\n",
      "Epoch 6/10\n",
      "69918/69918 [==============================] - 65s 934us/step - loss: 0.3676 - accuracy: 0.8552 - aucroc: 0.6352 - val_loss: 0.3734 - val_accuracy: 0.8521 - val_aucroc: 0.6595\n",
      "Epoch 7/10\n",
      "69918/69918 [==============================] - 66s 951us/step - loss: 0.3474 - accuracy: 0.8604 - aucroc: 0.6822 - val_loss: 0.3858 - val_accuracy: 0.8489 - val_aucroc: 0.6849\n",
      "Epoch 8/10\n",
      "69918/69918 [==============================] - 66s 949us/step - loss: 0.3305 - accuracy: 0.8661 - aucroc: 0.7090 - val_loss: 0.3926 - val_accuracy: 0.8518 - val_aucroc: 0.6558\n",
      "Epoch 9/10\n",
      "69918/69918 [==============================] - 66s 940us/step - loss: 0.3068 - accuracy: 0.8735 - aucroc: 0.7340 - val_loss: 0.4620 - val_accuracy: 0.7912 - val_aucroc: 0.5637\n",
      "Epoch 10/10\n",
      "69918/69918 [==============================] - 65s 934us/step - loss: 0.2752 - accuracy: 0.8857 - aucroc: 0.7897 - val_loss: 0.5002 - val_accuracy: 0.8467 - val_aucroc: 0.6290\n",
      "Restoring model weights from the end of the best epoch.\n",
      "Epoch 00010: early stopping\n",
      "Validation loss for embedding units=128, lstm layer=128 ,numerical dense units=128   is : 0.3858469104739567\n",
      "Train on 69918 samples, validate on 17480 samples\n",
      "Epoch 1/10\n",
      "69918/69918 [==============================] - 69s 984us/step - loss: 0.5773 - accuracy: 0.6827 - aucroc: 0.5223 - val_loss: 0.6216 - val_accuracy: 0.8190 - val_aucroc: 0.5216\n",
      "Epoch 2/10\n",
      "69918/69918 [==============================] - 64s 917us/step - loss: 0.4570 - accuracy: 0.7973 - aucroc: 0.5269 - val_loss: 0.4793 - val_accuracy: 0.8379 - val_aucroc: 0.5444\n",
      "Epoch 3/10\n",
      "69918/69918 [==============================] - 64s 919us/step - loss: 0.4203 - accuracy: 0.8318 - aucroc: 0.5359 - val_loss: 0.4109 - val_accuracy: 0.8333 - val_aucroc: 0.5431\n",
      "Epoch 4/10\n",
      "69918/69918 [==============================] - 65s 927us/step - loss: 0.3960 - accuracy: 0.8448 - aucroc: 0.5656 - val_loss: 0.3962 - val_accuracy: 0.8494 - val_aucroc: 0.5793\n",
      "Epoch 5/10\n",
      "69918/69918 [==============================] - 64s 916us/step - loss: 0.3807 - accuracy: 0.8499 - aucroc: 0.5909 - val_loss: 0.3816 - val_accuracy: 0.8473 - val_aucroc: 0.5957\n",
      "Epoch 6/10\n",
      "69918/69918 [==============================] - 64s 919us/step - loss: 0.3626 - accuracy: 0.8549 - aucroc: 0.6231 - val_loss: 0.4344 - val_accuracy: 0.8078 - val_aucroc: 0.6178\n",
      "Epoch 7/10\n",
      "69918/69918 [==============================] - 68s 968us/step - loss: 0.3433 - accuracy: 0.8627 - aucroc: 0.6644 - val_loss: 0.4711 - val_accuracy: 0.7701 - val_aucroc: 0.5801\n",
      "Epoch 8/10\n",
      "69918/69918 [==============================] - 69s 983us/step - loss: 0.3161 - accuracy: 0.8738 - aucroc: 0.7097 - val_loss: 0.5066 - val_accuracy: 0.7435 - val_aucroc: 0.6148\n",
      "Epoch 9/10\n",
      "69918/69918 [==============================] - 64s 914us/step - loss: 0.2840 - accuracy: 0.8843 - aucroc: 0.7598 - val_loss: 0.4866 - val_accuracy: 0.7664 - val_aucroc: 0.5643\n",
      "Restoring model weights from the end of the best epoch.\n",
      "Epoch 00009: early stopping\n",
      "Validation loss for embedding units=128, lstm layer=128 ,numerical dense units=64   is : 0.43436692665316146\n",
      "Train on 69918 samples, validate on 17480 samples\n",
      "Epoch 1/10\n",
      "69918/69918 [==============================] - 70s 1ms/step - loss: 0.5801 - accuracy: 0.6915 - aucroc: 0.5241 - val_loss: 0.4852 - val_accuracy: 0.8042 - val_aucroc: 0.5216\n",
      "Epoch 2/10\n",
      "69918/69918 [==============================] - 66s 940us/step - loss: 0.4499 - accuracy: 0.8029 - aucroc: 0.5416 - val_loss: 0.4271 - val_accuracy: 0.8291 - val_aucroc: 0.5307\n",
      "Epoch 3/10\n",
      "69918/69918 [==============================] - 66s 945us/step - loss: 0.4204 - accuracy: 0.8243 - aucroc: 0.5569 - val_loss: 0.4129 - val_accuracy: 0.8193 - val_aucroc: 0.5527\n",
      "Epoch 4/10\n",
      "69918/69918 [==============================] - 66s 939us/step - loss: 0.3972 - accuracy: 0.8369 - aucroc: 0.5924 - val_loss: 0.4396 - val_accuracy: 0.8406 - val_aucroc: 0.6167\n",
      "Epoch 5/10\n",
      "69918/69918 [==============================] - 66s 939us/step - loss: 0.3797 - accuracy: 0.8458 - aucroc: 0.6150 - val_loss: 0.3836 - val_accuracy: 0.8451 - val_aucroc: 0.6589\n",
      "Epoch 6/10\n",
      "69918/69918 [==============================] - 66s 941us/step - loss: 0.3589 - accuracy: 0.8541 - aucroc: 0.6556 - val_loss: 0.6212 - val_accuracy: 0.6292 - val_aucroc: 0.5216\n",
      "Epoch 7/10\n",
      "69918/69918 [==============================] - 66s 943us/step - loss: 0.3350 - accuracy: 0.8640 - aucroc: 0.6960 - val_loss: 0.4057 - val_accuracy: 0.8399 - val_aucroc: 0.6498\n",
      "Epoch 8/10\n",
      "69918/69918 [==============================] - 66s 945us/step - loss: 0.3024 - accuracy: 0.8779 - aucroc: 0.7474 - val_loss: 0.4166 - val_accuracy: 0.8375 - val_aucroc: 0.6488\n",
      "Restoring model weights from the end of the best epoch.\n",
      "Epoch 00008: early stopping\n",
      "Validation loss for embedding units=128, lstm layer=128 ,numerical dense units=32   is : 0.3836339950152338\n"
     ]
    }
   ],
   "source": [
    "set_random_seed(2)\n",
    "## clear the graph of the tensorflow\n",
    "k.clear_session()\n",
    "### defining all the Input layer \n",
    "#set_random_seed(2)\n",
    "input_seq_total_text_data = Input(shape=padfiltered_sequence_train[0].shape,name='text_Input')\n",
    "input_school_state = Input(shape=(1,),name='school_state_Input')\n",
    "input_project_grade_category = Input(shape=(1,),name='project_grade_category_Input')\n",
    "input_clean_categories = Input(shape=(1,),name='input_clean_categories_Input')\n",
    "input_clean_subcategories = Input(shape=(1,),name='input_clean_subcategories_Input')\n",
    "input_teacher_prefix = Input(shape=(1,),name='input_teacher_prefix')\n",
    "input_numerical = Input(shape=(numerical_train.shape[1],),name='input_numerical')\n",
    "\n",
    "auc_scores_model2 = []\n",
    "if (not os.path.isfile('tuning_output2.pkl')):   \n",
    "    for embedding_index in [32,64,128]:\n",
    "        for lstm_index in [32,64,128]:\n",
    "            for num_dense_index in [128,64,32]:\n",
    "                \n",
    "                ## Define embedding layers for all inputs\n",
    "                embedding_layer_text = Embedding(input_dim=vocab_size,output_dim=300,weights = [embedding_matrix]\n",
    "                                                ,trainable=False)(input_seq_total_text_data) \n",
    "                embedding_layer_school_state = Embedding(input_dim=1,output_dim=embedding_index,\n",
    "                                                                input_length=1)(input_school_state)\n",
    "                embedding_layer_project_grade_category = Embedding(input_dim=1,output_dim=embedding_index,\n",
    "                                                                input_length=1)(input_project_grade_category)\n",
    "                embedding_layer_clean_categories = Embedding(input_dim=1,output_dim=embedding_index,\n",
    "                                                                input_length=1)(input_clean_categories)\n",
    "                embedding_layer_clean_subcategories = Embedding(input_dim=1,output_dim=embedding_index,\n",
    "                                                                input_length=1)(input_clean_subcategories)\n",
    "                embedding_layer_teacher_prefix = Embedding(input_dim=1,output_dim=embedding_index,\n",
    "                                                                input_length=1)(input_teacher_prefix)\n",
    "\n",
    "                ### Define LSTM for the text\n",
    "                '''Return sequences = True ensure output from all theLSTM is returned not just the final output from last LSTM'''\n",
    "                lstm_layer_text = LSTM(lstm_index,return_sequences=True)(embedding_layer_text)\n",
    "\n",
    "                ### Define flatten layer and Dense layer for numerical input\n",
    "                flatten_text = Flatten()(lstm_layer_text)\n",
    "                flatten_school_state = Flatten()(embedding_layer_school_state)\n",
    "                flatten_project_grade_category = Flatten()(embedding_layer_project_grade_category)\n",
    "                flatten_clean_categories = Flatten()(embedding_layer_clean_categories)\n",
    "                flatten_clean_subcategories = Flatten()(embedding_layer_clean_subcategories)\n",
    "                flatten_teacher_prefix = Flatten()(embedding_layer_teacher_prefix)\n",
    "                rem_input_dense = Dense(num_dense_index,activation='relu',kernel_initializer='he_normal')(input_numerical)\n",
    "\n",
    "                ##Concatenate all the layers\n",
    "                concat_layer = concatenate([flatten_text,flatten_school_state,flatten_project_grade_category,flatten_clean_categories,\n",
    "                                            flatten_clean_subcategories,flatten_teacher_prefix,rem_input_dense])\n",
    "\n",
    "                ##define three dense layers with dropout\n",
    "                dense1_layer = Dense(256,activation='relu',kernel_initializer='he_normal')(concat_layer)\n",
    "                regularization_layer1 = BatchNormalization()(dense1_layer)\n",
    "                regularization_layer1 = Dropout(0.35)(regularization_layer1)\n",
    "                dense2_layer = Dense(128,activation='relu',kernel_initializer='he_normal')(regularization_layer1)\n",
    "                regularization_layer2 = BatchNormalization()(dense2_layer)\n",
    "                regularization_layer2 = Dropout(0.35)(regularization_layer2)\n",
    "                dense3_layer = Dense(64,activation='relu',kernel_initializer='he_normal')(regularization_layer2)\n",
    "                regularization_layer2 = BatchNormalization()(dense3_layer)\n",
    "                #regularization_layer2 = Dropout(0.25)(regularization_layer2)\n",
    "                output_layer = Dense(2,activation='sigmoid',kernel_initializer='glorot_normal',activity_regularizer=l2(0.0001))(regularization_layer2)\n",
    "\n",
    "                model2 = Model(inputs=[input_seq_total_text_data,\n",
    "                                      input_school_state,input_project_grade_category,\n",
    "                                      input_clean_categories,input_clean_subcategories,\n",
    "                                      input_teacher_prefix,input_numerical],outputs=output_layer)\n",
    "\n",
    "                ## Compile the model2 with default learning rate\n",
    "                model2.compile(optimizer=keras.optimizers.Adam(),loss='categorical_crossentropy',metrics=['accuracy',aucroc])\n",
    "                callback = tf.keras.callbacks.EarlyStopping(monitor='val_aucroc',verbose=1, patience=3,restore_best_weights=True,mode='max')\n",
    "                history = model2.fit([padfiltered_sequence_train,sklstate_train,proj_grade_train,train_categories,train_subcategories,\n",
    "                                     teacher_prefix_train,numerical_train],y_train_cat,epochs=10,batch_size=1000,verbose=1,\n",
    "                                    validation_data=[[padfiltered_sequence_cv,sklstate_cv,proj_grade_cv,cv_categories,\n",
    "                                                      cv_subcategories,teacher_prefix_cv,numerical_cv],y_cv_cat],\n",
    "                                     callbacks=[callback])\n",
    "                max_= np.argmax(history.history['val_aucroc'])\n",
    "                print('Validation loss for embedding units={0}, lstm layer={1} ,numerical dense units={2} '.format(embedding_index,lstm_index,num_dense_index),\n",
    "                      ' is :' ,history.history['val_loss'][max_])\n",
    "                \n",
    "                auc_scores_model2.append((embedding_index,lstm_index,num_dense_index,history.history['accuracy'][max_]\n",
    "                                   ,history.history['loss'][max_],history.history['aucroc'][max_],\n",
    "                                   history.history['val_accuracy'][max_],history.history['val_loss'][max_],history.history['val_aucroc'][max_]))\n",
    "    \n",
    "    df = pd.DataFrame(data=auc_scores_model2,columns=['Embedding units','LSTM units','Dense numerical units',\n",
    "                                               'Train Accuracy','Train Loss','Train auc','Test Accuracy','Test Loss','Test auc'])\n",
    "    best_param = df[df['Test auc'] == df['Test auc'].max()]\n",
    "    with open('tuning_output2.pkl', 'wb') as f:\n",
    "        pickle.dump([df,auc_scores_model2,best_param] , f)\n",
    "\n",
    "else:\n",
    "    df,auc_scores_model2,best_param = pickle.load(open('tuning_output2.pkl','rb'))\n",
    "    print('----Tuning output loaded -------')"
   ]
  },
  {
   "cell_type": "code",
   "execution_count": null,
   "metadata": {
    "id": "3D-TAIY9z7LH"
   },
   "outputs": [],
   "source": [
    "df = pd.DataFrame(data=auc_scores_model2,columns=['Embedding units','LSTM units','Dense numerical units',\n",
    "                                           'Train Accuracy','Train Loss','Train auc','Test Accuracy','Test Loss','Test auc'])"
   ]
  },
  {
   "cell_type": "code",
   "execution_count": null,
   "metadata": {
    "colab": {
     "base_uri": "https://localhost:8080/",
     "height": 359
    },
    "id": "KT0Nu6OMz8xb",
    "outputId": "76345a94-4b1d-47c2-d707-19e03d74ab38"
   },
   "outputs": [
    {
     "data": {
      "text/html": [
       "<div>\n",
       "<style scoped>\n",
       "    .dataframe tbody tr th:only-of-type {\n",
       "        vertical-align: middle;\n",
       "    }\n",
       "\n",
       "    .dataframe tbody tr th {\n",
       "        vertical-align: top;\n",
       "    }\n",
       "\n",
       "    .dataframe thead th {\n",
       "        text-align: right;\n",
       "    }\n",
       "</style>\n",
       "<table border=\"1\" class=\"dataframe\">\n",
       "  <thead>\n",
       "    <tr style=\"text-align: right;\">\n",
       "      <th></th>\n",
       "      <th>Embedding units</th>\n",
       "      <th>LSTM units</th>\n",
       "      <th>Dense numerical units</th>\n",
       "      <th>Train Accuracy</th>\n",
       "      <th>Train Loss</th>\n",
       "      <th>Train auc</th>\n",
       "      <th>Test Accuracy</th>\n",
       "      <th>Test Loss</th>\n",
       "      <th>Test auc</th>\n",
       "    </tr>\n",
       "  </thead>\n",
       "  <tbody>\n",
       "    <tr>\n",
       "      <th>17</th>\n",
       "      <td>64</td>\n",
       "      <td>128</td>\n",
       "      <td>32</td>\n",
       "      <td>0.856217</td>\n",
       "      <td>0.299048</td>\n",
       "      <td>0.767236</td>\n",
       "      <td>0.821568</td>\n",
       "      <td>0.470457</td>\n",
       "      <td>0.681503</td>\n",
       "    </tr>\n",
       "    <tr>\n",
       "      <th>18</th>\n",
       "      <td>128</td>\n",
       "      <td>32</td>\n",
       "      <td>128</td>\n",
       "      <td>0.847707</td>\n",
       "      <td>0.341145</td>\n",
       "      <td>0.724302</td>\n",
       "      <td>0.830263</td>\n",
       "      <td>0.400753</td>\n",
       "      <td>0.706534</td>\n",
       "    </tr>\n",
       "    <tr>\n",
       "      <th>19</th>\n",
       "      <td>128</td>\n",
       "      <td>32</td>\n",
       "      <td>64</td>\n",
       "      <td>0.839011</td>\n",
       "      <td>0.358630</td>\n",
       "      <td>0.680320</td>\n",
       "      <td>0.822140</td>\n",
       "      <td>0.401445</td>\n",
       "      <td>0.699575</td>\n",
       "    </tr>\n",
       "    <tr>\n",
       "      <th>20</th>\n",
       "      <td>128</td>\n",
       "      <td>32</td>\n",
       "      <td>32</td>\n",
       "      <td>0.855002</td>\n",
       "      <td>0.356793</td>\n",
       "      <td>0.647431</td>\n",
       "      <td>0.843936</td>\n",
       "      <td>0.382278</td>\n",
       "      <td>0.704629</td>\n",
       "    </tr>\n",
       "    <tr>\n",
       "      <th>21</th>\n",
       "      <td>128</td>\n",
       "      <td>64</td>\n",
       "      <td>128</td>\n",
       "      <td>0.884365</td>\n",
       "      <td>0.254372</td>\n",
       "      <td>0.834121</td>\n",
       "      <td>0.825572</td>\n",
       "      <td>0.523246</td>\n",
       "      <td>0.694111</td>\n",
       "    </tr>\n",
       "    <tr>\n",
       "      <th>22</th>\n",
       "      <td>128</td>\n",
       "      <td>64</td>\n",
       "      <td>64</td>\n",
       "      <td>0.887482</td>\n",
       "      <td>0.278534</td>\n",
       "      <td>0.789397</td>\n",
       "      <td>0.843936</td>\n",
       "      <td>0.413120</td>\n",
       "      <td>0.696618</td>\n",
       "    </tr>\n",
       "    <tr>\n",
       "      <th>23</th>\n",
       "      <td>128</td>\n",
       "      <td>64</td>\n",
       "      <td>32</td>\n",
       "      <td>0.829257</td>\n",
       "      <td>0.366427</td>\n",
       "      <td>0.683132</td>\n",
       "      <td>0.815389</td>\n",
       "      <td>0.411847</td>\n",
       "      <td>0.648535</td>\n",
       "    </tr>\n",
       "    <tr>\n",
       "      <th>24</th>\n",
       "      <td>128</td>\n",
       "      <td>128</td>\n",
       "      <td>128</td>\n",
       "      <td>0.860394</td>\n",
       "      <td>0.347377</td>\n",
       "      <td>0.682235</td>\n",
       "      <td>0.848856</td>\n",
       "      <td>0.385847</td>\n",
       "      <td>0.684885</td>\n",
       "    </tr>\n",
       "    <tr>\n",
       "      <th>25</th>\n",
       "      <td>128</td>\n",
       "      <td>128</td>\n",
       "      <td>64</td>\n",
       "      <td>0.854901</td>\n",
       "      <td>0.362602</td>\n",
       "      <td>0.623140</td>\n",
       "      <td>0.807838</td>\n",
       "      <td>0.434367</td>\n",
       "      <td>0.617782</td>\n",
       "    </tr>\n",
       "    <tr>\n",
       "      <th>26</th>\n",
       "      <td>128</td>\n",
       "      <td>128</td>\n",
       "      <td>32</td>\n",
       "      <td>0.845762</td>\n",
       "      <td>0.379724</td>\n",
       "      <td>0.614951</td>\n",
       "      <td>0.845137</td>\n",
       "      <td>0.383634</td>\n",
       "      <td>0.658889</td>\n",
       "    </tr>\n",
       "  </tbody>\n",
       "</table>\n",
       "</div>"
      ],
      "text/plain": [
       "    Embedding units  LSTM units  ...  Test Loss  Test auc\n",
       "17               64         128  ...   0.470457  0.681503\n",
       "18              128          32  ...   0.400753  0.706534\n",
       "19              128          32  ...   0.401445  0.699575\n",
       "20              128          32  ...   0.382278  0.704629\n",
       "21              128          64  ...   0.523246  0.694111\n",
       "22              128          64  ...   0.413120  0.696618\n",
       "23              128          64  ...   0.411847  0.648535\n",
       "24              128         128  ...   0.385847  0.684885\n",
       "25              128         128  ...   0.434367  0.617782\n",
       "26              128         128  ...   0.383634  0.658889\n",
       "\n",
       "[10 rows x 9 columns]"
      ]
     },
     "execution_count": 53,
     "metadata": {
      "tags": []
     },
     "output_type": "execute_result"
    }
   ],
   "source": [
    "df.tail(10)"
   ]
  },
  {
   "cell_type": "markdown",
   "metadata": {
    "id": "OuTUdyjGfm_G"
   },
   "source": [
    "#### Best Hyperparameter values"
   ]
  },
  {
   "cell_type": "code",
   "execution_count": null,
   "metadata": {
    "id": "hZHlH5v9f_Wg"
   },
   "outputs": [],
   "source": [
    "best_param = df[df['Test auc'] == df['Test auc'].max()]"
   ]
  },
  {
   "cell_type": "code",
   "execution_count": null,
   "metadata": {
    "colab": {
     "base_uri": "https://localhost:8080/",
     "height": 80
    },
    "id": "oFxjQUaG_M_e",
    "outputId": "712e9768-1d98-4bf9-9b4a-ec5e8c940907"
   },
   "outputs": [
    {
     "data": {
      "text/html": [
       "<div>\n",
       "<style scoped>\n",
       "    .dataframe tbody tr th:only-of-type {\n",
       "        vertical-align: middle;\n",
       "    }\n",
       "\n",
       "    .dataframe tbody tr th {\n",
       "        vertical-align: top;\n",
       "    }\n",
       "\n",
       "    .dataframe thead th {\n",
       "        text-align: right;\n",
       "    }\n",
       "</style>\n",
       "<table border=\"1\" class=\"dataframe\">\n",
       "  <thead>\n",
       "    <tr style=\"text-align: right;\">\n",
       "      <th></th>\n",
       "      <th>Embedding units</th>\n",
       "      <th>LSTM units</th>\n",
       "      <th>Dense numerical units</th>\n",
       "      <th>Train Accuracy</th>\n",
       "      <th>Train Loss</th>\n",
       "      <th>Train auc</th>\n",
       "      <th>Test Accuracy</th>\n",
       "      <th>Test Loss</th>\n",
       "      <th>Test auc</th>\n",
       "    </tr>\n",
       "  </thead>\n",
       "  <tbody>\n",
       "    <tr>\n",
       "      <th>9</th>\n",
       "      <td>64</td>\n",
       "      <td>32</td>\n",
       "      <td>128</td>\n",
       "      <td>0.853214</td>\n",
       "      <td>0.334687</td>\n",
       "      <td>0.734609</td>\n",
       "      <td>0.797483</td>\n",
       "      <td>0.440253</td>\n",
       "      <td>0.713029</td>\n",
       "    </tr>\n",
       "  </tbody>\n",
       "</table>\n",
       "</div>"
      ],
      "text/plain": [
       "   Embedding units  LSTM units  ...  Test Loss  Test auc\n",
       "9               64          32  ...   0.440253  0.713029\n",
       "\n",
       "[1 rows x 9 columns]"
      ]
     },
     "execution_count": 58,
     "metadata": {
      "tags": []
     },
     "output_type": "execute_result"
    }
   ],
   "source": [
    "best_param"
   ]
  },
  {
   "cell_type": "markdown",
   "metadata": {
    "id": "kejwbR6pQqgE"
   },
   "source": [
    "### Train the Model with best hyperparameters"
   ]
  },
  {
   "cell_type": "code",
   "execution_count": null,
   "metadata": {
    "id": "lA8GACdNaGv8"
   },
   "outputs": [],
   "source": [
    "# Load the TensorBoard notebook extension\n",
    "%load_ext tensorboard\n",
    "import datetime, os\n",
    "#%reload_ext tensorboard"
   ]
  },
  {
   "cell_type": "code",
   "execution_count": 81,
   "metadata": {
    "colab": {
     "base_uri": "https://localhost:8080/",
     "height": 1000
    },
    "id": "pcpbNeNpZ3Dh",
    "outputId": "b0464d2c-c964-41b8-d548-fee5354d3f9c"
   },
   "outputs": [
    {
     "name": "stdout",
     "output_type": "stream",
     "text": [
      "Train on 69918 samples, validate on 17480 samples\n",
      "Epoch 1/25\n",
      "69918/69918 [==============================] - 34s 482us/step - loss: 1.3797 - accuracy: 0.6720 - aucroc: 0.5325 - val_loss: 0.8318 - val_accuracy: 0.7878 - val_aucroc: 0.5649\n",
      "Epoch 2/25\n",
      "69918/69918 [==============================] - 32s 454us/step - loss: 0.8419 - accuracy: 0.7996 - aucroc: 0.5616 - val_loss: 0.5848 - val_accuracy: 0.8241 - val_aucroc: 0.5866\n",
      "Epoch 3/25\n",
      "69918/69918 [==============================] - 32s 455us/step - loss: 0.6147 - accuracy: 0.8281 - aucroc: 0.5901 - val_loss: 2.6651 - val_accuracy: 0.4086 - val_aucroc: 0.5214\n",
      "Epoch 4/25\n",
      "69918/69918 [==============================] - 32s 454us/step - loss: 0.5097 - accuracy: 0.8377 - aucroc: 0.6168 - val_loss: 1.2313 - val_accuracy: 0.6902 - val_aucroc: 0.5383\n",
      "\n",
      "Epoch 00004: ReduceLROnPlateau reducing learning rate to 0.001.\n",
      "Epoch 5/25\n",
      "69918/69918 [==============================] - 32s 454us/step - loss: 0.4540 - accuracy: 0.8460 - aucroc: 0.6333 - val_loss: 2.0459 - val_accuracy: 0.5574 - val_aucroc: 0.5325\n",
      "Epoch 6/25\n",
      "69918/69918 [==============================] - 32s 457us/step - loss: 0.4316 - accuracy: 0.8470 - aucroc: 0.6391 - val_loss: 0.4256 - val_accuracy: 0.8439 - val_aucroc: 0.6834\n",
      "Epoch 7/25\n",
      "69918/69918 [==============================] - 32s 457us/step - loss: 0.4053 - accuracy: 0.8518 - aucroc: 0.6519 - val_loss: 0.4107 - val_accuracy: 0.8465 - val_aucroc: 0.6585\n",
      "Epoch 8/25\n",
      "69918/69918 [==============================] - 32s 458us/step - loss: 0.3863 - accuracy: 0.8563 - aucroc: 0.6793 - val_loss: 0.4039 - val_accuracy: 0.8443 - val_aucroc: 0.7342\n",
      "Epoch 9/25\n",
      "69918/69918 [==============================] - 32s 459us/step - loss: 0.3853 - accuracy: 0.8566 - aucroc: 0.6807 - val_loss: 0.4214 - val_accuracy: 0.8346 - val_aucroc: 0.7195\n",
      "Epoch 10/25\n",
      "69918/69918 [==============================] - 32s 457us/step - loss: 0.3671 - accuracy: 0.8632 - aucroc: 0.7117 - val_loss: 0.4570 - val_accuracy: 0.8461 - val_aucroc: 0.6015\n",
      "\n",
      "Epoch 00010: ReduceLROnPlateau reducing learning rate to 0.001.\n",
      "Epoch 11/25\n",
      "69918/69918 [==============================] - 32s 454us/step - loss: 0.3475 - accuracy: 0.8675 - aucroc: 0.7268 - val_loss: 0.4950 - val_accuracy: 0.8458 - val_aucroc: 0.5897\n",
      "Epoch 12/25\n",
      "69918/69918 [==============================] - 32s 454us/step - loss: 0.3329 - accuracy: 0.8740 - aucroc: 0.7448 - val_loss: 0.4486 - val_accuracy: 0.8455 - val_aucroc: 0.6560\n",
      "\n",
      "Epoch 00012: ReduceLROnPlateau reducing learning rate to 0.001.\n",
      "Epoch 13/25\n",
      "69918/69918 [==============================] - 32s 451us/step - loss: 0.3178 - accuracy: 0.8784 - aucroc: 0.7551 - val_loss: 0.4420 - val_accuracy: 0.8449 - val_aucroc: 0.6738\n",
      "Epoch 14/25\n",
      "69918/69918 [==============================] - 32s 451us/step - loss: 0.2985 - accuracy: 0.8844 - aucroc: 0.7686 - val_loss: 2.4453 - val_accuracy: 0.4006 - val_aucroc: 0.5487\n",
      "\n",
      "Epoch 00014: ReduceLROnPlateau reducing learning rate to 0.001.\n",
      "Epoch 15/25\n",
      "69918/69918 [==============================] - 31s 449us/step - loss: 0.2960 - accuracy: 0.8870 - aucroc: 0.7724 - val_loss: 0.5466 - val_accuracy: 0.8446 - val_aucroc: 0.6115\n",
      "Epoch 16/25\n",
      "69918/69918 [==============================] - 31s 450us/step - loss: 0.2695 - accuracy: 0.8975 - aucroc: 0.7953 - val_loss: 0.4732 - val_accuracy: 0.8402 - val_aucroc: 0.6421\n",
      "\n",
      "Epoch 00016: ReduceLROnPlateau reducing learning rate to 0.001.\n",
      "Epoch 17/25\n",
      "69918/69918 [==============================] - 32s 459us/step - loss: 2.4798 - accuracy: 0.5257 - aucroc: 0.6415 - val_loss: 4.6360 - val_accuracy: 0.1514 - val_aucroc: 0.5000\n",
      "Epoch 18/25\n",
      "69918/69918 [==============================] - 32s 457us/step - loss: 4.6888 - accuracy: 0.1514 - aucroc: 0.5000 - val_loss: 4.6360 - val_accuracy: 0.1514 - val_aucroc: 0.5000\n",
      "\n",
      "Epoch 00018: ReduceLROnPlateau reducing learning rate to 0.001.\n",
      "Epoch 19/25\n",
      "69918/69918 [==============================] - 32s 454us/step - loss: 4.6888 - accuracy: 0.1514 - aucroc: 0.5000 - val_loss: 4.6360 - val_accuracy: 0.1514 - val_aucroc: 0.5000\n",
      "Epoch 20/25\n",
      "69918/69918 [==============================] - 32s 455us/step - loss: 4.6888 - accuracy: 0.1514 - aucroc: 0.5000 - val_loss: 4.6360 - val_accuracy: 0.1514 - val_aucroc: 0.5000\n",
      "\n",
      "Epoch 00020: ReduceLROnPlateau reducing learning rate to 0.001.\n",
      "Epoch 21/25\n",
      "69918/69918 [==============================] - 32s 453us/step - loss: 4.6888 - accuracy: 0.1514 - aucroc: 0.5000 - val_loss: 4.6360 - val_accuracy: 0.1514 - val_aucroc: 0.5000\n",
      "Epoch 22/25\n",
      "69918/69918 [==============================] - 32s 454us/step - loss: 4.6888 - accuracy: 0.1514 - aucroc: 0.5000 - val_loss: 4.6360 - val_accuracy: 0.1514 - val_aucroc: 0.5000\n",
      "\n",
      "Epoch 00022: ReduceLROnPlateau reducing learning rate to 0.001.\n",
      "Epoch 23/25\n",
      "69918/69918 [==============================] - 32s 453us/step - loss: 4.6888 - accuracy: 0.1514 - aucroc: 0.5000 - val_loss: 4.6360 - val_accuracy: 0.1514 - val_aucroc: 0.5000\n",
      "Epoch 24/25\n",
      "69918/69918 [==============================] - 32s 453us/step - loss: 4.6888 - accuracy: 0.1514 - aucroc: 0.5000 - val_loss: 4.6360 - val_accuracy: 0.1514 - val_aucroc: 0.5000\n",
      "\n",
      "Epoch 00024: ReduceLROnPlateau reducing learning rate to 0.001.\n",
      "Epoch 25/25\n",
      "69918/69918 [==============================] - 32s 454us/step - loss: 4.6888 - accuracy: 0.1514 - aucroc: 0.5000 - val_loss: 4.6360 - val_accuracy: 0.1514 - val_aucroc: 0.5000\n"
     ]
    }
   ],
   "source": [
    "from keras.callbacks import ModelCheckpoint,ReduceLROnPlateau\n",
    "# Clear any logs from previous runs\n",
    "!rm -rf ./logs/ \n",
    "#set_random_seed(65)\n",
    "## clear the graph of the tensorflow\n",
    "tf.keras.backend.clear_session()\n",
    "### defining all the Input layer        \n",
    "input_seq_total_text_data = Input(shape=padfiltered_sequence_train[0].shape,name='text_Input')\n",
    "input_school_state = Input(shape=(1,),name='school_state_Input')\n",
    "input_project_grade_category = Input(shape=(1,),name='project_grade_category_Input')\n",
    "input_clean_categories = Input(shape=(1,),name='input_clean_categories_Input')\n",
    "input_clean_subcategories = Input(shape=(1,),name='input_clean_subcategories_Input')\n",
    "input_teacher_prefix = Input(shape=(1,),name='input_teacher_prefix')\n",
    "input_numerical = Input(shape=(numerical_train.shape[1],),name='input_numerical')\n",
    "\n",
    "## Define embedding layers for all inputs\n",
    "embedding_layer_text = Embedding(input_dim=vocab_size,output_dim=300,weights = [embedding_matrix],trainable=False)(input_seq_total_text_data) \n",
    "embedding_layer_school_state = Embedding(input_dim=1,output_dim=int(best_param['Embedding units']))(input_school_state)\n",
    "embedding_layer_project_grade_category = Embedding(input_dim=1,output_dim=int(best_param['Embedding units']))(input_project_grade_category)\n",
    "embedding_layer_clean_categories = Embedding(input_dim=1,output_dim=int(best_param['Embedding units']))(input_clean_categories)\n",
    "embedding_layer_clean_subcategories = Embedding(input_dim=1,output_dim=int(best_param['Embedding units']))(input_clean_subcategories)\n",
    "embedding_layer_teacher_prefix = Embedding(input_dim=1,output_dim=int(best_param['Embedding units']))(input_teacher_prefix)\n",
    "\n",
    "### Define LSTM for the text\n",
    "'''Return sequences = True ensure output from all theLSTM is returned not just the final output from last LSTM'''\n",
    "lstm_layer_text = LSTM(int(best_param['LSTM units']),return_sequences=True)(embedding_layer_text)\n",
    "\n",
    "### Define flatten layer and Dense layer for numerical input\n",
    "flatten_text = Flatten()(lstm_layer_text)\n",
    "flatten_school_state = Flatten()(embedding_layer_school_state)\n",
    "flatten_project_grade_category = Flatten()(embedding_layer_project_grade_category)\n",
    "flatten_clean_categories = Flatten()(embedding_layer_clean_categories)\n",
    "flatten_clean_subcategories = Flatten()(embedding_layer_clean_subcategories)\n",
    "flatten_teacher_prefix = Flatten()(embedding_layer_teacher_prefix)\n",
    "rem_input_dense = Dense(int(best_param['Dense numerical units']),activation='relu',kernel_initializer='he_normal')(input_numerical)\n",
    "\n",
    "##Concatenate all the layers\n",
    "concat_layer = concatenate([flatten_text,flatten_school_state,flatten_project_grade_category,flatten_clean_categories,\n",
    "                          flatten_clean_subcategories,flatten_teacher_prefix,rem_input_dense])\n",
    "\n",
    "##define three dense layers with dropout\n",
    "dense1_layer = Dense(512,kernel_initializer='he_normal')(concat_layer)\n",
    "activation = LeakyReLU(0.3)(dense1_layer) \n",
    "regularization_layer1 = BatchNormalization()(activation)\n",
    "regularization_layer1 = Dropout(0.25)(regularization_layer1)\n",
    "dense2_layer = Dense(256,kernel_initializer='he_normal')(regularization_layer1)\n",
    "activation = LeakyReLU(0.3)(dense2_layer) \n",
    "regularization_layer2 = BatchNormalization()(activation)\n",
    "regularization_layer2 = Dropout(0.25)(regularization_layer2)\n",
    "dense3_layer = Dense(128,kernel_initializer='he_normal')(regularization_layer2)\n",
    "activation = LeakyReLU(0.3)(dense3_layer) \n",
    "regularization_layer2 = BatchNormalization()(activation)\n",
    "regularization_layer2 = Dropout(0.25)(regularization_layer2)\n",
    "dense4_layer = Dense(64,kernel_initializer='he_normal')(regularization_layer2)\n",
    "activation = LeakyReLU(0.3)(dense4_layer) \n",
    "regularization_layer2 = BatchNormalization()(activation)\n",
    "regularization_layer2 = Dropout(0.25)(regularization_layer2)\n",
    "dense5_layer = Dense(32,kernel_initializer='he_normal')(regularization_layer2)\n",
    "activation = LeakyReLU(0.3)(dense5_layer)\n",
    "regularization_layer2 = BatchNormalization()(activation)\n",
    "regularization_layer2 = Dropout(0.25)(regularization_layer2)\n",
    "output_layer = Dense(2,activation='sigmoid',kernel_initializer='glorot_normal',activity_regularizer=l2(0.002))(regularization_layer2)\n",
    "\n",
    "if not os.path.isfile('best_model2_output.pkl'):\n",
    "    model2 = Model(inputs=[input_seq_total_text_data,\n",
    "                        input_school_state,input_project_grade_category,\n",
    "                        input_clean_categories,input_clean_subcategories,\n",
    "                        input_teacher_prefix,input_numerical],outputs=output_layer)\n",
    "\n",
    "    model2.compile(optimizer=keras.optimizers.Adam(),loss='categorical_crossentropy',metrics=['accuracy',aucroc])\n",
    "\n",
    "    log_dir=\"logs/\" + datetime.datetime.now().strftime(\"%Y%m%d-%H%M%S\")\n",
    "    tensorboard_callback = tf.keras.callbacks.TensorBoard(log_dir=log_dir,histogram_freq=0, write_graph=True,write_grads=True)\n",
    "\n",
    "    ## early stopping \n",
    "    #https://www.tensorflow.org/api_docs/python/tf/keras/callbacks/EarlyStopping\n",
    "    # https://www.tensorflow.org/api_docs/python/tf/keras/callbacks/ReduceLROnPlateau \n",
    "    #callback = tf.keras.callbacks.EarlyStopping(monitor='val_aucroc',verbose=1, patience=5,restore_best_weights=True,mode='max')\n",
    "    mcp_save = ModelCheckpoint('mdl_wts.hdf5', save_best_only=True, monitor='val_aucroc', mode='max')\n",
    "    reduce_lr_2 = ReduceLROnPlateau(monitor='val_aucroc', factor=0.2,patience=2, min_lr=0.001,verbose = 1,mode='max')\n",
    "    history = model2.fit([padfiltered_sequence_train,sklstate_train,proj_grade_train,train_categories,train_subcategories,\n",
    "                        teacher_prefix_train,numerical_train],y_train_cat,epochs=25,batch_size=1000,verbose=1,\n",
    "                      validation_data=[[padfiltered_sequence_cv,sklstate_cv,proj_grade_cv,cv_categories,\n",
    "                                        cv_subcategories,teacher_prefix_cv,numerical_cv],y_cv_cat],\n",
    "                          callbacks=[tensorboard_callback,mcp_save,reduce_lr_2])\n",
    "    hist = history.history\n",
    "    with open('best_model2_output.pkl','wb') as f:\n",
    "        pickle.dump(hist, f)\n",
    "        \n",
    "else:\n",
    "    hist = pickle.load(open('best_model2_output.pkl', 'rb'))\n",
    "    print('----Model output loaded after tuning-------')"
   ]
  },
  {
   "cell_type": "markdown",
   "metadata": {
    "id": "JXf5oxwtSRb6"
   },
   "source": [
    "## Confusion Matrix and ROC Plot\n"
   ]
  },
  {
   "cell_type": "code",
   "execution_count": 83,
   "metadata": {
    "colab": {
     "base_uri": "https://localhost:8080/",
     "height": 329
    },
    "id": "aaB-7GvPSSiW",
    "outputId": "a57eb617-9a88-4002-90f0-ca90409710d3"
   },
   "outputs": [
    {
     "data": {
      "image/png": "[encoded data removed]",
      "text/plain": [
       "<Figure size 432x288 with 1 Axes>"
      ]
     },
     "metadata": {
      "needs_background": "light",
      "tags": []
     },
     "output_type": "display_data"
    },
    {
     "name": "stdout",
     "output_type": "stream",
     "text": [
      "====================================================================================================\n",
      "the maximum value of tpr*(1-fpr) 0.5414291582816169 for threshold 0.038\n"
     ]
    }
   ],
   "source": [
    "from sklearn.metrics import confusion_matrix\n",
    "## Finding best threshold for predictions\n",
    "def best_threshold(thresholds,fpr,tpr):\n",
    "    t=thresholds[np.argmax(tpr*(1-fpr))]\n",
    "    # (tpr*(1-fpr)) will be maximum if your fpr is very low and tpr is very high\n",
    "    print(\"the maximum value of tpr*(1-fpr)\", max(tpr*(1-fpr)), \"for threshold\", np.round(t,3))\n",
    "    return t\n",
    "\n",
    "def predict_with_best_t(proba, threshold):\n",
    "    predictions = []\n",
    "    for i in proba:\n",
    "        if i>=threshold:\n",
    "            predictions.append(1)\n",
    "        else:\n",
    "            predictions.append(0)\n",
    "    return predictions\n",
    "\n",
    "\n",
    "\n",
    "## Predict the test and train \n",
    "model2.load_weights('mdl_wts.hdf5')\n",
    "y_test_predict = model2.predict([padfiltered_sequence_test ,sklstate_test,proj_grade_test,test_categories,test_subcategories,\n",
    "                        teacher_prefix_test,numerical_test],use_multiprocessing=True)[:,1]\n",
    "y_train_predict = model2.predict([padfiltered_sequence_train,sklstate_train,proj_grade_train,train_categories,train_subcategories,\n",
    "                        teacher_prefix_train,numerical_train],use_multiprocessing=True)[:,1]\n",
    "\n",
    "if  os.path.isfile('model_predictions.pkl'):\n",
    "    os.remove('model_predictions.pkl')\n",
    "    print(\"File model_predictions Removed!\")\n",
    "    with open('model_predictions.pkl','wb') as f:\n",
    "        pickle.dump([y_train_predict,y_test_predict],f)\n",
    "        \n",
    "## Store fpr and tpr rates \n",
    "\n",
    "train_fpr, train_tpr, tr_thresholds = roc_curve(y_train, y_train_predict)\n",
    "test_fpr, test_tpr, te_thresholds = roc_curve(y_test, y_test_predict) \n",
    "\n",
    "\n",
    "#plot\n",
    "plt.plot(train_fpr, train_tpr, label=\"train AUC =\"+str(auc(train_fpr, train_tpr)))\n",
    "plt.plot(test_fpr, test_tpr, label=\"test AUC =\"+str(auc(test_fpr, test_tpr)))\n",
    "plt.legend()\n",
    "plt.xlabel(\"False Possitive Rate (FPR)\")\n",
    "plt.ylabel(\"True Possitive Rate (TPR)\")\n",
    "plt.title(\"ERROR PLOTS (model2)\")\n",
    "plt.plot([0, 1], [0, 1],'b--')\n",
    "plt.grid()\n",
    "plt.show()\n",
    "\n",
    "print(\"=\"*100)\n",
    "\n",
    "best_t=best_threshold(tr_thresholds,train_fpr, train_tpr)\n"
   ]
  },
  {
   "cell_type": "code",
   "execution_count": 85,
   "metadata": {
    "colab": {
     "base_uri": "https://localhost:8080/",
     "height": 295
    },
    "id": "xLJvVu0qSvQp",
    "outputId": "cfe8c23e-8d7e-4e7e-9a5d-79efef0795c4"
   },
   "outputs": [
    {
     "data": {
      "image/png": "[encoded data removed]",
      "text/plain": [
       "<Figure size 432x288 with 2 Axes>"
      ]
     },
     "metadata": {
      "tags": []
     },
     "output_type": "display_data"
    }
   ],
   "source": [
    "### PLOT the matrix for Train\n",
    "#https://www.quantinsti.com/blog/creating-heatmap-using-python-seaborn\n",
    "# source : https://stackoverflow.com/questions/35572000/how-can-i-plot-a-confusion-matrix\n",
    "df_cm = pd.DataFrame(confusion_matrix(y_train, predict_with_best_t(y_train_predict, best_t))\n",
    "                     , range(2), range(2))\n",
    "# plt.figure(figsize=(10,7))\n",
    "sns.set(font_scale=1.4) # for label size\n",
    "sns.heatmap(df_cm, annot=True, annot_kws={\"size\": 16},fmt='g',\n",
    "            xticklabels=['Actual:0','Actual:1']\n",
    "           ,yticklabels=['Predicted:0','Predicted:1']) # font size\n",
    "plt.title('Confusion matrix : Train data')\n",
    "plt.show()    "
   ]
  },
  {
   "cell_type": "code",
   "execution_count": 86,
   "metadata": {
    "colab": {
     "base_uri": "https://localhost:8080/",
     "height": 295
    },
    "id": "gy19NooKSw4p",
    "outputId": "e01b6c73-c459-4a17-a1cc-c4666ce787b7"
   },
   "outputs": [
    {
     "data": {
      "image/png": "[encoded data removed]",
      "text/plain": [
       "<Figure size 432x288 with 2 Axes>"
      ]
     },
     "metadata": {
      "tags": []
     },
     "output_type": "display_data"
    }
   ],
   "source": [
    "### PLOT the matrix for Test\n",
    "#https://www.quantinsti.com/blog/creating-heatmap-using-python-seaborn\n",
    "# source : https://stackoverflow.com/questions/35572000/how-can-i-plot-a-confusion-matrix\n",
    "df_cm = pd.DataFrame(confusion_matrix(y_test, predict_with_best_t(y_test_predict, best_t))\n",
    "                     , range(2), range(2))\n",
    "# plt.figure(figsize=(10,7))\n",
    "sns.set(font_scale=1.4) # for label size\n",
    "sns.heatmap(df_cm, annot=True, annot_kws={\"size\": 16},fmt='g',\n",
    "            xticklabels=['Actual:0','Actual:1']\n",
    "           ,yticklabels=['Predicted:0','Predicted:1']) # font size\n",
    "plt.title('Confusion matrix : Test data')\n",
    "plt.show()    "
   ]
  },
  {
   "cell_type": "markdown",
   "metadata": {
    "colab": {
     "base_uri": "https://localhost:8080/",
     "height": 34
    },
    "id": "3E-0BLrhrBdd",
    "outputId": "3edba443-616f-4bb4-9b8f-74cf34c03b8d"
   },
   "source": [
    "<li><b>Validation Loss,Validation aucroc,Train Loss,Train aucroc</b>\n",
    "<img src='model2.jpg' width=\"800\" height=\"800\">"
   ]
  },
  {
   "cell_type": "markdown",
   "metadata": {
    "id": "N_IY-LZsDHlF"
   },
   "source": [
    "### Model2 Summary :\n",
    "    * Preprocesed and vectorized the input variables along with label encoding categorical data.\n",
    "    * Unlike model1 we reduce the number of words from our text input using the word's IDF values.\n",
    "    * While choosing only words within the IQR range model doesn't seem to perform well as model 1 as we are loosing many words.\n",
    "    * While choosing words within idf range 2-11 , just a negligible amount of words are removed, which is same as Model1.\n",
    "    * Hence a reasonable range of 6-11.46(i.e 75th percentile ) is chosen here .\n",
    "    * We Tuned our model with various embedding input dimensions,dense numerical units and LSTM units with early stopping techniques and found the best combination with highest Test auc values .\n",
    "\n",
    "    * After finding the best combination we tuned our best model with this combination increasing the number of layers,\n",
    "      dropout and batch normalization layers,including Leaky relu activation and activity regularizers to imporve the model performance\n",
    "\n",
    "    * Used keras callback methods to perform early stopping,reduce learning rate,model checkpoints to monitor our model\n",
    "      to attain maximum validation auc.\n",
    "     \n",
    "    * We see that as the number of epochs goes above 14 our Validation auc reduces and loss increases drastically.Hence we save the model at the best epoch.\n",
    "    \n",
    "    * When we plot FPR against TPR our model gives 0.78 as train auc and 0.72 as test auc performing better than model1 with lesser number of words in text input \n",
    "        "
   ]
  }
 ],
 "metadata": {
  "accelerator": "GPU",
  "colab": {
   "collapsed_sections": [],
   "name": "Model2_LSTM.ipynb",
   "provenance": []
  },
  "kernelspec": {
   "display_name": "Python 3",
   "language": "python",
   "name": "python3"
  },
  "language_info": {
   "codemirror_mode": {
    "name": "ipython",
    "version": 3
   },
   "file_extension": ".py",
   "mimetype": "text/x-python",
   "name": "python",
   "nbconvert_exporter": "python",
   "pygments_lexer": "ipython3",
   "version": "3.6.10"
  }
 },
 "nbformat": 4,
 "nbformat_minor": 1
}
